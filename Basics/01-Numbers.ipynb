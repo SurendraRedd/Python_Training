{
  "cells": [
    {
      "cell_type": "markdown",
      "source": "#### Numbers and more in Python!\n\nIn this lecture, we will learn about numbers in Python and how to use them.\n\nWe'll learn about the following topics:\n\n    1.) Types of Numbers in Python\n    2.) Basic Arithmetic\n    3.) Differences between classic division and floor division\n    4.) Object Assignment in Python",
      "metadata": {
        "cell_id": "00001-b54d7eba-63dc-4036-a219-a409175c76ca",
        "deepnote_cell_type": "markdown"
      }
    },
    {
      "cell_type": "markdown",
      "source": "## Types of numbers\n\nPython has various \"types\" of numbers (numeric literals). We'll mainly focus on integers and floating point numbers.\n\nIntegers are just whole numbers, positive or negative. For example: 2 and -2 are examples of integers.\n\nFloating point numbers in Python are notable because they have a decimal point in them, or use an exponential (e) to define the number. For example 2.0 and -2.1 are examples of floating point numbers. 4E2 (4 times 10 to the power of 2) is also an example of a floating point number in Python.\n\nThroughout this course we will be mainly working with integers or simple float number types.\n\nHere is a table of the two main types we will spend most of our time working with some examples:",
      "metadata": {
        "cell_id": "00002-5edbe88d-8773-4a79-9079-33d9ddd29543",
        "deepnote_cell_type": "markdown"
      }
    },
    {
      "cell_type": "markdown",
      "source": "<table>\n<tr>\n    <th>Examples</th> \n    <th>Number \"Type\"</th>\n</tr>\n\n<tr>\n    <td>1,2,-5,1000</td>\n    <td>Integers</td> \n</tr>\n\n<tr>\n    <td>1.2,-0.5,2e2,3E2</td> \n    <td>Floating-point numbers</td> \n</tr>\n </table>",
      "metadata": {
        "cell_id": "00003-a21963fc-459f-498e-a41f-f2be9d125536",
        "deepnote_cell_type": "markdown"
      }
    },
    {
      "cell_type": "markdown",
      "source": " \n \nNow let's start with some basic arithmetic.",
      "metadata": {
        "cell_id": "00004-10e604a8-a5a0-444b-ac7f-264ae3da46bf",
        "deepnote_cell_type": "markdown"
      }
    },
    {
      "cell_type": "markdown",
      "source": "### Basic Arithmetic",
      "metadata": {
        "cell_id": "00005-cdf1dda6-0ba6-4c3e-81f6-4a28cbcfd195",
        "deepnote_cell_type": "markdown"
      }
    },
    {
      "cell_type": "code",
      "metadata": {
        "cell_id": "00006-6d44403e-06a9-43cf-8a0e-3591864d0056",
        "deepnote_to_be_reexecuted": false,
        "source_hash": null,
        "execution_millis": 0,
        "execution_start": 1618846836096,
        "output_cleared": true,
        "deepnote_cell_type": "code"
      },
      "source": "# Addition\n2+1",
      "execution_count": null,
      "outputs": []
    },
    {
      "cell_type": "code",
      "metadata": {
        "cell_id": "00007-6029b8c4-c87e-4763-bbdc-69ea91d31a1d",
        "deepnote_to_be_reexecuted": false,
        "source_hash": "6ed9417c",
        "execution_start": 1618843695077,
        "execution_millis": 6,
        "deepnote_cell_type": "code"
      },
      "source": "# Subtraction\n2-1",
      "execution_count": null,
      "outputs": [
        {
          "output_type": "execute_result",
          "execution_count": 2,
          "data": {
            "text/plain": "1"
          },
          "metadata": {}
        }
      ]
    },
    {
      "cell_type": "code",
      "metadata": {
        "cell_id": "00008-54e63d2b-7303-4647-84d9-35a0537bfb16",
        "deepnote_to_be_reexecuted": false,
        "source_hash": "219d1473",
        "execution_start": 1618843695098,
        "execution_millis": 91,
        "deepnote_cell_type": "code"
      },
      "source": "# Multiplication\n2*2",
      "execution_count": null,
      "outputs": [
        {
          "output_type": "execute_result",
          "execution_count": 3,
          "data": {
            "text/plain": "4"
          },
          "metadata": {}
        }
      ]
    },
    {
      "cell_type": "code",
      "metadata": {
        "cell_id": "00009-4b1712ec-4a84-4551-b795-1b4009e77fb3",
        "deepnote_to_be_reexecuted": false,
        "source_hash": "87110662",
        "execution_start": 1618843695099,
        "execution_millis": 90,
        "deepnote_cell_type": "code"
      },
      "source": "# Division\n3/2",
      "execution_count": null,
      "outputs": [
        {
          "output_type": "execute_result",
          "execution_count": 4,
          "data": {
            "text/plain": "1.5"
          },
          "metadata": {}
        }
      ]
    },
    {
      "cell_type": "code",
      "metadata": {
        "cell_id": "00010-b05e0d6b-043a-4aca-a259-8316622967a7",
        "deepnote_to_be_reexecuted": false,
        "source_hash": "a482e814",
        "execution_start": 1618843695100,
        "execution_millis": 89,
        "deepnote_cell_type": "code"
      },
      "source": "# Floor Division\n7//4",
      "execution_count": null,
      "outputs": [
        {
          "output_type": "execute_result",
          "execution_count": 5,
          "data": {
            "text/plain": "1"
          },
          "metadata": {}
        }
      ]
    },
    {
      "cell_type": "markdown",
      "source": "**Whoa! What just happened? Last time I checked, 7 divided by 4 equals 1.75 not 1!**\n\nThe reason we get this result is because we are using \"*floor*\" division. The // operator (two forward slashes) truncates the decimal without rounding, and returns an integer result.",
      "metadata": {
        "cell_id": "00011-4342622f-9f34-448e-a5d4-d3200d839128",
        "deepnote_cell_type": "markdown"
      }
    },
    {
      "cell_type": "markdown",
      "source": "**So what if we just want the remainder after division?**",
      "metadata": {
        "cell_id": "00012-ce16ce1f-d6b4-4a18-ba59-3a56e0f8cc7d",
        "deepnote_cell_type": "markdown"
      }
    },
    {
      "cell_type": "code",
      "metadata": {
        "cell_id": "00013-40a67ae2-0deb-4194-a6e4-ef6ffedd1444",
        "deepnote_to_be_reexecuted": false,
        "source_hash": "ea8b3962",
        "execution_start": 1618843695105,
        "execution_millis": 0,
        "deepnote_cell_type": "code"
      },
      "source": "# Modulo\n7%4",
      "execution_count": null,
      "outputs": [
        {
          "output_type": "execute_result",
          "execution_count": 6,
          "data": {
            "text/plain": "3"
          },
          "metadata": {}
        }
      ]
    },
    {
      "cell_type": "markdown",
      "source": "4 goes into 7 once, with a remainder of 3. The % operator returns the remainder after division.",
      "metadata": {
        "cell_id": "00014-3fc993c7-a561-434f-abb7-8d4c394e83b6",
        "deepnote_cell_type": "markdown"
      }
    },
    {
      "cell_type": "markdown",
      "source": "### Arithmetic continued",
      "metadata": {
        "cell_id": "00015-2404fd94-ea36-4253-8567-9865ad22dbe3",
        "deepnote_cell_type": "markdown"
      }
    },
    {
      "cell_type": "code",
      "metadata": {
        "cell_id": "00016-fd700551-bb0f-4d6e-a78b-dc1a06091b35",
        "deepnote_to_be_reexecuted": false,
        "source_hash": "9925b8b0",
        "execution_start": 1618843695109,
        "execution_millis": 81,
        "deepnote_cell_type": "code"
      },
      "source": "# Powers\n2**3",
      "execution_count": null,
      "outputs": [
        {
          "output_type": "execute_result",
          "execution_count": 7,
          "data": {
            "text/plain": "8"
          },
          "metadata": {}
        }
      ]
    },
    {
      "cell_type": "code",
      "metadata": {
        "cell_id": "00017-9591e720-ebdb-4598-a829-c0527613768b",
        "deepnote_to_be_reexecuted": false,
        "source_hash": "ddfbe0a5",
        "execution_start": 1618843695119,
        "execution_millis": 0,
        "deepnote_cell_type": "code"
      },
      "source": "# Can also do roots this way\n4**0.5",
      "execution_count": null,
      "outputs": [
        {
          "output_type": "execute_result",
          "execution_count": 8,
          "data": {
            "text/plain": "2.0"
          },
          "metadata": {}
        }
      ]
    },
    {
      "cell_type": "code",
      "metadata": {
        "cell_id": "00018-d703d049-f20f-4604-81a2-cdc3bea72761",
        "deepnote_to_be_reexecuted": false,
        "source_hash": "4f481be5",
        "execution_start": 1618843695127,
        "deepnote_cell_type": "code"
      },
      "source": "# Order of Operations followed in Python\n2 + 10 * 10 + 3",
      "execution_count": null,
      "outputs": [
        {
          "output_type": "execute_result",
          "execution_count": 9,
          "data": {
            "text/plain": "105"
          },
          "metadata": {}
        }
      ]
    },
    {
      "cell_type": "code",
      "metadata": {
        "cell_id": "00019-a86df0f9-16d4-4d1b-b273-9921d552c14f",
        "deepnote_to_be_reexecuted": false,
        "source_hash": "75988d0b",
        "execution_start": 1618843695130,
        "execution_millis": 1,
        "deepnote_cell_type": "code"
      },
      "source": "# Can use parentheses to specify orders\n(2+10) * (10+3)",
      "execution_count": null,
      "outputs": [
        {
          "output_type": "execute_result",
          "execution_count": 10,
          "data": {
            "text/plain": "156"
          },
          "metadata": {}
        }
      ]
    },
    {
      "cell_type": "markdown",
      "source": "## Variable Assignments\n\nNow that we've seen how to use numbers in Python as a calculator let's see how we can assign names and create variables.\n\nWe use a single equals sign to assign labels to variables. Let's see a few examples of how we can do this.",
      "metadata": {
        "cell_id": "00020-f2a06bcd-73e2-45e2-bdc5-65e9b21a24ff",
        "deepnote_cell_type": "markdown"
      }
    },
    {
      "cell_type": "code",
      "metadata": {
        "collapsed": true,
        "cell_id": "00021-688e6035-eef0-4959-a201-f5ad4546a7b6",
        "deepnote_to_be_reexecuted": false,
        "source_hash": "e145d40e",
        "execution_millis": 0,
        "execution_start": 1618846950341,
        "deepnote_cell_type": "code"
      },
      "source": "# Let's create an object called \"a\" and assign it the number 5\na = 5",
      "execution_count": null,
      "outputs": []
    },
    {
      "cell_type": "markdown",
      "source": "Now if I call *a* in my Python script, Python will treat it as the number 5.",
      "metadata": {
        "cell_id": "00022-c01d9a1e-ccbf-4a8a-bec8-5a3272b2c6ba",
        "deepnote_cell_type": "markdown"
      }
    },
    {
      "cell_type": "code",
      "metadata": {
        "cell_id": "00023-1ca44a6e-ade1-4a91-a237-f19caf2803e2",
        "deepnote_to_be_reexecuted": false,
        "source_hash": "a3b5c500",
        "execution_start": 1618843695141,
        "deepnote_cell_type": "code"
      },
      "source": "# Adding the objects\na+a",
      "execution_count": null,
      "outputs": [
        {
          "output_type": "execute_result",
          "execution_count": 12,
          "data": {
            "text/plain": "10"
          },
          "metadata": {}
        }
      ]
    },
    {
      "cell_type": "markdown",
      "source": "What happens on reassignment? Will Python let us write it over?",
      "metadata": {
        "cell_id": "00024-668af648-9fc9-4ca2-893f-95af231ba3cb",
        "deepnote_cell_type": "markdown"
      }
    },
    {
      "cell_type": "code",
      "metadata": {
        "collapsed": true,
        "cell_id": "00025-c102994e-9e89-4833-aaa0-b2d4dcf97668",
        "deepnote_to_be_reexecuted": false,
        "source_hash": "951179a1",
        "execution_start": 1618843695148,
        "deepnote_cell_type": "code"
      },
      "source": "# Reassignment\na = 10",
      "execution_count": null,
      "outputs": []
    },
    {
      "cell_type": "code",
      "metadata": {
        "cell_id": "00026-9b29ee47-b76a-48ee-a667-a3df4258a3b0",
        "deepnote_to_be_reexecuted": false,
        "source_hash": "46f44576",
        "execution_start": 1618843695153,
        "deepnote_cell_type": "code"
      },
      "source": "# Check\na",
      "execution_count": null,
      "outputs": [
        {
          "output_type": "execute_result",
          "execution_count": 14,
          "data": {
            "text/plain": "10"
          },
          "metadata": {}
        }
      ]
    },
    {
      "cell_type": "markdown",
      "source": "Yes! Python allows you to write over assigned variable names. We can also use the variables themselves when doing the reassignment. Here is an example of what I mean:",
      "metadata": {
        "cell_id": "00027-9487c3c5-117f-4249-97a6-b2b305d21cf2",
        "deepnote_cell_type": "markdown"
      }
    },
    {
      "cell_type": "code",
      "metadata": {
        "cell_id": "00028-d98a55c1-e6e7-4100-a8b3-041a7af09b81",
        "deepnote_to_be_reexecuted": false,
        "source_hash": "46f44576",
        "execution_start": 1618843695160,
        "deepnote_cell_type": "code"
      },
      "source": "# Check\na",
      "execution_count": null,
      "outputs": [
        {
          "output_type": "execute_result",
          "execution_count": 15,
          "data": {
            "text/plain": "10"
          },
          "metadata": {}
        }
      ]
    },
    {
      "cell_type": "code",
      "metadata": {
        "collapsed": true,
        "cell_id": "00029-fd95fdf1-57f6-41fd-b443-07449329143d",
        "deepnote_to_be_reexecuted": false,
        "source_hash": "7785c26b",
        "execution_start": 1618843695164,
        "deepnote_cell_type": "code"
      },
      "source": "# Use A to redefine A\na = a + a",
      "execution_count": null,
      "outputs": []
    },
    {
      "cell_type": "code",
      "metadata": {
        "cell_id": "00030-0da43d1c-8a1c-4aed-a034-09a4b8c77442",
        "deepnote_to_be_reexecuted": false,
        "source_hash": "a8bcb0e2",
        "execution_start": 1618843695170,
        "deepnote_cell_type": "code"
      },
      "source": "# Check \na",
      "execution_count": null,
      "outputs": [
        {
          "output_type": "execute_result",
          "execution_count": 17,
          "data": {
            "text/plain": "20"
          },
          "metadata": {}
        }
      ]
    },
    {
      "cell_type": "markdown",
      "source": "The names you use when creating these labels need to follow a few rules:\n\n    1. Names can not start with a number.\n    2. There can be no spaces in the name, use _ instead.\n    3. Can't use any of these symbols :'\",<>/?|\\()!@#$%^&*~-+\n    4. It's considered best practice (PEP8) that names are lowercase.\n    5. Avoid using the characters 'l' (lowercase letter el), 'O' (uppercase letter oh), \n       or 'I' (uppercase letter eye) as single character variable names.\n    6. Avoid using words that have special meaning in Python like \"list\" and \"str\"\n\n\nUsing variable names can be a very useful way to keep track of different variables in Python. For example:",
      "metadata": {
        "cell_id": "00031-758f151f-d75d-4a21-b0f1-fd0f41309902",
        "deepnote_cell_type": "markdown"
      }
    },
    {
      "cell_type": "code",
      "metadata": {
        "collapsed": true,
        "cell_id": "00032-6a9ebe4c-00df-4759-a036-055b6f66828c",
        "deepnote_to_be_reexecuted": false,
        "source_hash": "53d5c670",
        "execution_start": 1618843695173,
        "deepnote_cell_type": "code"
      },
      "source": "# Use object names to keep better track of what's going on in your code!\nmy_income = 100\n\ntax_rate = 0.1\n\nmy_taxes = my_income*tax_rate",
      "execution_count": null,
      "outputs": []
    },
    {
      "cell_type": "code",
      "metadata": {
        "cell_id": "00033-3e26b811-8649-4a0b-a0a8-a54b29b4f963",
        "deepnote_to_be_reexecuted": false,
        "source_hash": "2f9fa84b",
        "execution_start": 1618843695179,
        "deepnote_cell_type": "code"
      },
      "source": "# Show my taxes!\nmy_taxes",
      "execution_count": null,
      "outputs": [
        {
          "output_type": "execute_result",
          "execution_count": 19,
          "data": {
            "text/plain": "10.0"
          },
          "metadata": {}
        }
      ]
    },
    {
      "cell_type": "markdown",
      "source": "So what have we learned? We learned some of the basics of numbers in Python. We also learned how to do arithmetic and use Python as a basic calculator. We then wrapped it up with learning about Variable Assignment in Python.\n\nUp next we'll learn about Strings!",
      "metadata": {
        "cell_id": "00034-471bbc49-f796-4921-958b-0a2ff6468e35",
        "deepnote_cell_type": "markdown"
      }
    },
    {
      "cell_type": "markdown",
      "source": "<a style='text-decoration:none;line-height:16px;display:flex;color:#5B5B62;padding:10px;justify-content:end;' href='https://deepnote.com?utm_source=created-in-deepnote-cell&projectId=c3147b9a-1437-4d7f-b3a6-141719e97be4' target=\"_blank\">\n<img alt='Created in deepnote.com' style='display:inline;max-height:16px;margin:0px;margin-right:7.5px;' src='data:image/svg+xml;base64,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' > </img>\nCreated in <span style='font-weight:600;margin-left:4px;'>Deepnote</span></a>",
      "metadata": {
        "tags": [],
        "created_in_deepnote_cell": true,
        "deepnote_cell_type": "markdown"
      }
    }
  ],
  "nbformat": 4,
  "nbformat_minor": 1,
  "metadata": {
    "anaconda-cloud": {},
    "kernelspec": {
      "display_name": "Python 3",
      "language": "python",
      "name": "python3"
    },
    "language_info": {
      "codemirror_mode": {
        "name": "ipython",
        "version": 3
      },
      "file_extension": ".py",
      "mimetype": "text/x-python",
      "name": "python",
      "nbconvert_exporter": "python",
      "pygments_lexer": "ipython3",
      "version": "3.6.6"
    },
    "deepnote_notebook_id": "4f8e0054-eda7-428c-8cad-05aee89711f8",
    "deepnote": {},
    "deepnote_execution_queue": []
  }
}