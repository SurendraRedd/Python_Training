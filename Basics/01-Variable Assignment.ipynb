{
  "cells": [
    {
      "cell_type": "markdown",
      "source": "# Variable Assignment\n\n## Rules for variable names\n* names can not start with a number\n* names can not contain spaces, use _ intead\n* names can not contain any of these symbols:\n\n      :'\",<>/?|\\!@#%^&*~-+\n       \n* it's considered best practice ([PEP8](https://www.python.org/dev/peps/pep-0008/#function-and-variable-names)) that names are lowercase with underscores\n* avoid using Python built-in keywords like `list` and `str`\n* avoid using the single characters `l` (lowercase letter el), `O` (uppercase letter oh) and `I` (uppercase letter eye) as they can be confused with `1` and `0`",
      "metadata": {
        "cell_id": "00001-9d7ba46d-31a1-40ab-a0cb-1b3f03b0a10c",
        "deepnote_cell_type": "markdown"
      }
    },
    {
      "cell_type": "markdown",
      "source": "## Dynamic Typing\n\nPython uses *dynamic typing*, meaning you can reassign variables to different data types. This makes Python very flexible in assigning data types; it differs from other languages that are *statically typed*.",
      "metadata": {
        "cell_id": "00002-d6704b3a-7ff9-4a25-9359-c11bdfe800b2",
        "deepnote_cell_type": "markdown"
      }
    },
    {
      "cell_type": "code",
      "metadata": {
        "collapsed": true,
        "cell_id": "00003-9b766003-d711-4e8c-9413-290cca91a29e",
        "deepnote_to_be_reexecuted": false,
        "source_hash": "1a0cea3e",
        "execution_start": 1618843810635,
        "execution_millis": 4,
        "deepnote_cell_type": "code"
      },
      "source": "my_names = 2",
      "outputs": [],
      "execution_count": null
    },
    {
      "cell_type": "code",
      "metadata": {
        "cell_id": "00004-848e6dca-440d-49ad-b0f1-d8e1dde28b31",
        "deepnote_to_be_reexecuted": false,
        "source_hash": "6aea5495",
        "execution_start": 1618843810647,
        "execution_millis": 9,
        "deepnote_cell_type": "code"
      },
      "source": "my_names",
      "outputs": [
        {
          "output_type": "execute_result",
          "execution_count": 2,
          "data": {
            "text/plain": "2"
          },
          "metadata": {}
        }
      ],
      "execution_count": null
    },
    {
      "cell_type": "code",
      "metadata": {
        "collapsed": true,
        "cell_id": "00005-d74e3983-27d6-46d7-a592-cb21ca2ac8f6",
        "deepnote_to_be_reexecuted": false,
        "source_hash": "dfc0f888",
        "execution_millis": 2,
        "execution_start": 1618847634841,
        "deepnote_cell_type": "code"
      },
      "source": "my_names = ['Surendra', 'Reddy']",
      "outputs": [],
      "execution_count": null
    },
    {
      "cell_type": "code",
      "metadata": {
        "cell_id": "00006-97b1d5fc-49d0-4606-bb04-344d754c6f87",
        "deepnote_to_be_reexecuted": false,
        "source_hash": "daf1b6ba",
        "execution_start": 1618843810672,
        "execution_millis": 0,
        "deepnote_cell_type": "code"
      },
      "source": "my_names",
      "outputs": [
        {
          "output_type": "execute_result",
          "execution_count": 4,
          "data": {
            "text/plain": "['Surendra', 'Reddy']"
          },
          "metadata": {}
        }
      ],
      "execution_count": null
    },
    {
      "cell_type": "markdown",
      "source": "### Pros and Cons of Dynamic Typing\n#### Pros of Dynamic Typing\n* very easy to work with\n* faster development time\n\n#### Cons of Dynamic Typing\n* may result in unexpected bugs!\n* you need to be aware of `type()`",
      "metadata": {
        "cell_id": "00007-9fa40cc1-dfcc-43fc-b537-e13390fbf08c",
        "deepnote_cell_type": "markdown"
      }
    },
    {
      "cell_type": "markdown",
      "source": "## Assigning Variables\nVariable assignment follows `name = object`, where a single equals sign `=` is an *assignment operator*",
      "metadata": {
        "cell_id": "00008-3c8d80c7-3aa2-4a7b-bab7-fca6b31030bb",
        "deepnote_cell_type": "markdown"
      }
    },
    {
      "cell_type": "code",
      "metadata": {
        "collapsed": true,
        "cell_id": "00009-418ebd0b-4b1f-4516-a3c4-30586a94317e",
        "deepnote_to_be_reexecuted": false,
        "source_hash": "9ea5a2e1",
        "execution_start": 1618843810672,
        "execution_millis": 4,
        "deepnote_cell_type": "code"
      },
      "source": "a = 5",
      "outputs": [],
      "execution_count": null
    },
    {
      "cell_type": "code",
      "metadata": {
        "cell_id": "00010-4849b3d0-5f47-4d3e-8259-2a0de3935225",
        "deepnote_to_be_reexecuted": false,
        "source_hash": "ef4233c",
        "execution_start": 1618843810673,
        "execution_millis": 50,
        "deepnote_cell_type": "code"
      },
      "source": "a",
      "outputs": [
        {
          "output_type": "execute_result",
          "execution_count": 6,
          "data": {
            "text/plain": "5"
          },
          "metadata": {}
        }
      ],
      "execution_count": null
    },
    {
      "cell_type": "markdown",
      "source": "Here we assigned the integer object `5` to the variable name `a`.<br>Let's assign `a` to something else:",
      "metadata": {
        "cell_id": "00011-3d7d5b87-6792-43e7-a6e0-4f0a410f0c93",
        "deepnote_cell_type": "markdown"
      }
    },
    {
      "cell_type": "code",
      "metadata": {
        "collapsed": true,
        "cell_id": "00012-f6fdffaf-0b79-436d-b3b6-ded5ded77d8b",
        "deepnote_to_be_reexecuted": false,
        "source_hash": "c16d8ddd",
        "execution_start": 1618843810677,
        "execution_millis": 1,
        "deepnote_cell_type": "code"
      },
      "source": "a = 10",
      "outputs": [],
      "execution_count": null
    },
    {
      "cell_type": "code",
      "metadata": {
        "cell_id": "00013-6fd8e1fb-f19e-4cca-a0e6-f8f83b046af0",
        "deepnote_to_be_reexecuted": false,
        "source_hash": "ef4233c",
        "execution_start": 1618843810687,
        "execution_millis": 36,
        "deepnote_cell_type": "code"
      },
      "source": "a",
      "outputs": [
        {
          "output_type": "execute_result",
          "execution_count": 8,
          "data": {
            "text/plain": "10"
          },
          "metadata": {}
        }
      ],
      "execution_count": null
    },
    {
      "cell_type": "markdown",
      "source": "You can now use `a` in place of the number `10`:",
      "metadata": {
        "cell_id": "00014-11fa47b7-2988-4be7-bcad-9925cd7c19ca",
        "deepnote_cell_type": "markdown"
      }
    },
    {
      "cell_type": "code",
      "metadata": {
        "cell_id": "00015-b2939e7a-f700-4c6c-a671-d529ef205d56",
        "deepnote_to_be_reexecuted": false,
        "source_hash": "bf9eda36",
        "execution_start": 1618843810692,
        "execution_millis": 31,
        "deepnote_cell_type": "code"
      },
      "source": "a + a",
      "outputs": [
        {
          "output_type": "execute_result",
          "execution_count": 9,
          "data": {
            "text/plain": "20"
          },
          "metadata": {}
        }
      ],
      "execution_count": null
    },
    {
      "cell_type": "markdown",
      "source": "## Reassigning Variables\nPython lets you reassign variables with a reference to the same object.",
      "metadata": {
        "cell_id": "00016-7209aa74-66ee-467b-b1df-4c259ac15874",
        "deepnote_cell_type": "markdown"
      }
    },
    {
      "cell_type": "code",
      "metadata": {
        "collapsed": true,
        "cell_id": "00017-403e13e6-27d8-429b-a369-68a12cb8d062",
        "deepnote_to_be_reexecuted": false,
        "source_hash": "d77a3572",
        "execution_start": 1618843810695,
        "execution_millis": 4,
        "deepnote_cell_type": "code"
      },
      "source": "a = a + 10",
      "outputs": [],
      "execution_count": null
    },
    {
      "cell_type": "code",
      "metadata": {
        "cell_id": "00018-40495dd5-4d55-4e94-b86d-3ac1eeb7ad86",
        "deepnote_to_be_reexecuted": false,
        "source_hash": "ef4233c",
        "execution_start": 1618843810701,
        "execution_millis": 22,
        "deepnote_cell_type": "code"
      },
      "source": "a",
      "outputs": [
        {
          "output_type": "execute_result",
          "execution_count": 11,
          "data": {
            "text/plain": "20"
          },
          "metadata": {}
        }
      ],
      "execution_count": null
    },
    {
      "cell_type": "markdown",
      "source": "There's actually a shortcut for this. Python lets you add, subtract, multiply and divide numbers with reassignment using `+=`, `-=`, `*=`, and `/=`.",
      "metadata": {
        "cell_id": "00019-3e0b1c8b-5af1-4abc-9c0f-5da1863790b3",
        "deepnote_cell_type": "markdown"
      }
    },
    {
      "cell_type": "code",
      "metadata": {
        "collapsed": true,
        "cell_id": "00020-3a799cf9-cfbd-4d3f-86d5-67836df78ad1",
        "deepnote_to_be_reexecuted": false,
        "source_hash": "a2407a50",
        "execution_start": 1618843810706,
        "execution_millis": 2,
        "deepnote_cell_type": "code"
      },
      "source": "a += 10",
      "outputs": [],
      "execution_count": null
    },
    {
      "cell_type": "code",
      "metadata": {
        "cell_id": "00021-340cda15-7503-406f-87a5-c80b30ae56b5",
        "deepnote_to_be_reexecuted": false,
        "source_hash": "ef4233c",
        "execution_start": 1618843810711,
        "execution_millis": 12,
        "deepnote_cell_type": "code"
      },
      "source": "a",
      "outputs": [
        {
          "output_type": "execute_result",
          "execution_count": 13,
          "data": {
            "text/plain": "30"
          },
          "metadata": {}
        }
      ],
      "execution_count": null
    },
    {
      "cell_type": "code",
      "metadata": {
        "collapsed": true,
        "cell_id": "00022-2e9d935d-d409-4ede-b9c5-50e62a0b6317",
        "deepnote_to_be_reexecuted": false,
        "source_hash": "d60fdb32",
        "execution_start": 1618843810728,
        "execution_millis": 0,
        "deepnote_cell_type": "code"
      },
      "source": "a *= 2",
      "outputs": [],
      "execution_count": null
    },
    {
      "cell_type": "code",
      "metadata": {
        "cell_id": "00023-c31e51ef-eb0a-4c51-bc4d-169ea194a410",
        "deepnote_to_be_reexecuted": false,
        "source_hash": "ef4233c",
        "execution_start": 1618843810729,
        "execution_millis": 22,
        "deepnote_cell_type": "code"
      },
      "source": "a",
      "outputs": [
        {
          "output_type": "execute_result",
          "execution_count": 15,
          "data": {
            "text/plain": "60"
          },
          "metadata": {}
        }
      ],
      "execution_count": null
    },
    {
      "cell_type": "markdown",
      "source": "## Determining variable type with `type()`\nYou can check what type of object is assigned to a variable using Python's built-in `type()` function. Common data types include:\n* **int** (for integer)\n* **float**\n* **str** (for string)\n* **list**\n* **tuple**\n* **dict** (for dictionary)\n* **set**\n* **bool** (for Boolean True/False)",
      "metadata": {
        "cell_id": "00024-24437445-782d-4f67-8634-86ead6ee8df9",
        "deepnote_cell_type": "markdown"
      }
    },
    {
      "cell_type": "code",
      "metadata": {
        "cell_id": "00025-1ed5fd62-138a-4446-85c4-17505cbabe63",
        "deepnote_to_be_reexecuted": false,
        "source_hash": "1478ef",
        "execution_start": 1618843810729,
        "execution_millis": 22,
        "deepnote_cell_type": "code"
      },
      "source": "type(a)",
      "outputs": [
        {
          "output_type": "execute_result",
          "execution_count": 16,
          "data": {
            "text/plain": "int"
          },
          "metadata": {}
        }
      ],
      "execution_count": null
    },
    {
      "cell_type": "code",
      "metadata": {
        "collapsed": true,
        "cell_id": "00026-bf0abbc3-b7c9-42d3-a56d-c4e38015d00a",
        "deepnote_to_be_reexecuted": false,
        "source_hash": "e2fbf90",
        "execution_millis": 2,
        "execution_start": 1618847683840,
        "deepnote_cell_type": "code"
      },
      "source": "a = (1,2)",
      "outputs": [],
      "execution_count": null
    },
    {
      "cell_type": "code",
      "metadata": {
        "cell_id": "00027-4f67e3d5-735f-4ae1-b0c3-e46ea2c5eb39",
        "deepnote_to_be_reexecuted": false,
        "source_hash": "1478ef",
        "execution_millis": 25,
        "execution_start": 1618847692874,
        "deepnote_cell_type": "code"
      },
      "source": "type(a)",
      "outputs": [
        {
          "output_type": "execute_result",
          "execution_count": 4,
          "data": {
            "text/plain": "tuple"
          },
          "metadata": {}
        }
      ],
      "execution_count": null
    },
    {
      "cell_type": "markdown",
      "source": "## Simple Exercise\nThis shows how variables make calculations more readable and easier to follow.",
      "metadata": {
        "cell_id": "00028-578776aa-ca9c-4db6-a36f-b9a087e6a158",
        "deepnote_cell_type": "markdown"
      }
    },
    {
      "cell_type": "code",
      "metadata": {
        "collapsed": true,
        "cell_id": "00029-fa7a756c-4f2d-4d9a-a2e2-e2d272388be2",
        "deepnote_to_be_reexecuted": false,
        "source_hash": "a688c90",
        "execution_start": 1618843810741,
        "execution_millis": 0,
        "deepnote_cell_type": "code"
      },
      "source": "my_income = 100\ntax_rate = 0.1\nmy_taxes = my_income * tax_rate",
      "outputs": [],
      "execution_count": null
    },
    {
      "cell_type": "code",
      "metadata": {
        "cell_id": "00030-6f7069af-0405-4242-9c58-2e34f228f178",
        "deepnote_to_be_reexecuted": false,
        "source_hash": "be0b60e3",
        "execution_start": 1618843810742,
        "execution_millis": 11,
        "deepnote_cell_type": "code"
      },
      "source": "my_taxes",
      "outputs": [
        {
          "output_type": "execute_result",
          "execution_count": 20,
          "data": {
            "text/plain": "10.0"
          },
          "metadata": {}
        }
      ],
      "execution_count": null
    },
    {
      "cell_type": "markdown",
      "source": "Great! You should now understand the basics of variable assignment and reassignment in Python.<br>Up next, we'll learn about strings!",
      "metadata": {
        "cell_id": "00031-be9e1ebb-e936-44cf-9a19-9a0e9260f6df",
        "deepnote_cell_type": "markdown"
      }
    },
    {
      "cell_type": "markdown",
      "source": "<a style='text-decoration:none;line-height:16px;display:flex;color:#5B5B62;padding:10px;justify-content:end;' href='https://deepnote.com?utm_source=created-in-deepnote-cell&projectId=c3147b9a-1437-4d7f-b3a6-141719e97be4' target=\"_blank\">\n<img alt='Created in deepnote.com' style='display:inline;max-height:16px;margin:0px;margin-right:7.5px;' src='data:image/svg+xml;base64,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' > </img>\nCreated in <span style='font-weight:600;margin-left:4px;'>Deepnote</span></a>",
      "metadata": {
        "tags": [],
        "created_in_deepnote_cell": true,
        "deepnote_cell_type": "markdown"
      }
    }
  ],
  "nbformat": 4,
  "nbformat_minor": 2,
  "metadata": {
    "kernelspec": {
      "display_name": "Python 3",
      "language": "python",
      "name": "python3"
    },
    "language_info": {
      "codemirror_mode": {
        "name": "ipython",
        "version": 3
      },
      "file_extension": ".py",
      "mimetype": "text/x-python",
      "name": "python",
      "nbconvert_exporter": "python",
      "pygments_lexer": "ipython3",
      "version": "3.6.6"
    },
    "deepnote_notebook_id": "988ba0d6-5aad-4303-8e32-a42f63c0bf86",
    "deepnote": {},
    "deepnote_execution_queue": []
  }
}