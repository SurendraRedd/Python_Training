{
  "cells": [
    {
      "cell_type": "markdown",
      "source": "# Strings",
      "metadata": {
        "cell_id": "00001-18d535f1-b979-420b-b46c-38f5fd6c504e",
        "deepnote_cell_type": "markdown"
      }
    },
    {
      "cell_type": "markdown",
      "source": "Strings are used in Python to record text information, such as names. Strings in Python are actually a *sequence*, which basically means Python keeps track of every element in the string as a sequence. For example, Python understands the string \"hello' to be a sequence of letters in a specific order. This means we will be able to use indexing to grab particular letters (like the first letter, or the last letter).\n\nThis idea of a sequence is an important one in Python and we will touch upon it later on in the future.\n\nIn this lecture we'll learn about the following:\n\n    1.) Creating Strings\n    2.) Printing Strings\n    3.) String Indexing and Slicing\n    4.) String Properties\n    5.) String Methods\n    6.) Print Formatting",
      "metadata": {
        "cell_id": "00002-7097dfff-507f-40c1-af76-068bf1b310ec",
        "deepnote_cell_type": "markdown"
      }
    },
    {
      "cell_type": "markdown",
      "source": "## Creating a String\nTo create a string in Python you need to use either single quotes or double quotes. For example:",
      "metadata": {
        "cell_id": "00003-6acc441b-0d9e-49bd-8cd2-35a0d733d108",
        "deepnote_cell_type": "markdown"
      }
    },
    {
      "cell_type": "code",
      "metadata": {
        "cell_id": "00004-516cbb41-8a67-442b-81ed-a1f77ba3a346",
        "deepnote_cell_type": "code"
      },
      "source": "# Single word\n'hello'",
      "outputs": [
        {
          "data": {
            "text/plain": "'hello'"
          },
          "execution_count": 1,
          "metadata": {},
          "output_type": "execute_result"
        }
      ],
      "execution_count": null
    },
    {
      "cell_type": "code",
      "metadata": {
        "cell_id": "00005-d889930d-bfcb-450a-935e-d614d4abb7d8",
        "deepnote_cell_type": "code"
      },
      "source": "# Entire phrase \n'This is also a string'",
      "outputs": [
        {
          "data": {
            "text/plain": "'This is also a string'"
          },
          "execution_count": 2,
          "metadata": {},
          "output_type": "execute_result"
        }
      ],
      "execution_count": null
    },
    {
      "cell_type": "code",
      "metadata": {
        "cell_id": "00006-b3f5358f-72ad-4269-b976-50018f4ac0dc",
        "deepnote_cell_type": "code"
      },
      "source": "# We can also use double quote\n\"String built with double quotes\"",
      "outputs": [
        {
          "data": {
            "text/plain": "'String built with double quotes'"
          },
          "execution_count": 3,
          "metadata": {},
          "output_type": "execute_result"
        }
      ],
      "execution_count": null
    },
    {
      "cell_type": "code",
      "metadata": {
        "cell_id": "00007-f266dda4-5177-456f-b110-085b78c91fbc",
        "deepnote_to_be_reexecuted": false,
        "source_hash": "fa9afaed",
        "execution_millis": 27,
        "execution_start": 1618847797042,
        "deepnote_cell_type": "code"
      },
      "source": "# Be careful with quotes!\n' I' m using single quotes, but this will create an error'",
      "outputs": [
        {
          "output_type": "error",
          "ename": "SyntaxError",
          "evalue": "invalid syntax (<ipython-input-5-24b368794168>, line 2)",
          "traceback": [
            "\u001b[0;36m  File \u001b[0;32m\"<ipython-input-5-24b368794168>\"\u001b[0;36m, line \u001b[0;32m2\u001b[0m\n\u001b[0;31m    ' I' m using single quotes, but this will create an error'\u001b[0m\n\u001b[0m         ^\u001b[0m\n\u001b[0;31mSyntaxError\u001b[0m\u001b[0;31m:\u001b[0m invalid syntax\n"
          ]
        }
      ],
      "execution_count": null
    },
    {
      "cell_type": "markdown",
      "source": "The reason for the error above is because the single quote in <code>I'm</code> stopped the string. You can use combinations of double and single quotes to get the complete statement.",
      "metadata": {
        "cell_id": "00008-61f84638-cc55-424d-b67a-8561d2c4caa2",
        "deepnote_cell_type": "markdown"
      }
    },
    {
      "cell_type": "code",
      "metadata": {
        "cell_id": "00009-36e89e1e-b4ff-4a6f-a578-946e2f4c0fc1",
        "deepnote_cell_type": "code"
      },
      "source": "\"Now I'm ready to use the single quotes inside a string!\"",
      "outputs": [
        {
          "data": {
            "text/plain": "\"Now I'm ready to use the single quotes inside a string!\""
          },
          "execution_count": 5,
          "metadata": {},
          "output_type": "execute_result"
        }
      ],
      "execution_count": null
    },
    {
      "cell_type": "markdown",
      "source": "Now let's learn about printing strings!",
      "metadata": {
        "cell_id": "00010-c2036cb3-1170-4938-b63f-9491830d0151",
        "deepnote_cell_type": "markdown"
      }
    },
    {
      "cell_type": "markdown",
      "source": "## Printing a String\n\nUsing Jupyter notebook with just a string in a cell will automatically output strings, but the correct way to display strings in your output is by using a print function.",
      "metadata": {
        "cell_id": "00011-371ae68c-1b51-4e5e-9044-dea7b7f20422",
        "deepnote_cell_type": "markdown"
      }
    },
    {
      "cell_type": "code",
      "metadata": {
        "cell_id": "00012-d4aa2a2f-ab4b-4371-9422-5680bd87e186",
        "deepnote_cell_type": "code"
      },
      "source": "# We can simply declare a string\n'Hello World'",
      "outputs": [
        {
          "data": {
            "text/plain": "'Hello World'"
          },
          "execution_count": 6,
          "metadata": {},
          "output_type": "execute_result"
        }
      ],
      "execution_count": null
    },
    {
      "cell_type": "code",
      "metadata": {
        "cell_id": "00013-8cd80fa5-c7ec-4640-86f3-c2d4862e0612",
        "deepnote_cell_type": "code"
      },
      "source": "# Note that we can't output multiple strings this way\n'Hello World 1'\n'Hello World 2'",
      "outputs": [
        {
          "data": {
            "text/plain": "'Hello World 2'"
          },
          "execution_count": 7,
          "metadata": {},
          "output_type": "execute_result"
        }
      ],
      "execution_count": null
    },
    {
      "cell_type": "markdown",
      "source": "We can use a print statement to print a string.",
      "metadata": {
        "cell_id": "00014-7862bc32-478e-4785-9c99-7d6d7c5797a1",
        "deepnote_cell_type": "markdown"
      }
    },
    {
      "cell_type": "code",
      "metadata": {
        "cell_id": "00015-7a621754-be90-4137-8e16-a901fcbabc32",
        "deepnote_to_be_reexecuted": false,
        "source_hash": "bab6e103",
        "execution_start": 1618847850077,
        "execution_millis": 12,
        "deepnote_cell_type": "code"
      },
      "source": "print('Hello World 1')\nprint('Hello World 2')\nprint('Use \\n to print a new line')\nprint('\\n')\nprint('See what I mean?')\na =10\nprint('a :', a)",
      "outputs": [
        {
          "name": "stdout",
          "text": "Hello World 1\nHello World 2\nUse \n to print a new line\n\n\nSee what I mean?\na : 10\n",
          "output_type": "stream"
        }
      ],
      "execution_count": null
    },
    {
      "cell_type": "markdown",
      "source": "## String Basics",
      "metadata": {
        "cell_id": "00016-3b679193-ddd5-415a-bbcb-6f21a711e0bb",
        "deepnote_cell_type": "markdown"
      }
    },
    {
      "cell_type": "markdown",
      "source": "We can also use a function called len() to check the length of a string!",
      "metadata": {
        "cell_id": "00017-fa3a91c1-2f92-4949-a38e-28fc48cda992",
        "deepnote_cell_type": "markdown"
      }
    },
    {
      "cell_type": "code",
      "metadata": {
        "cell_id": "00018-d2f154a5-a991-4cbd-8c25-f9dbbe15a639",
        "deepnote_cell_type": "code"
      },
      "source": "len('Hello World')",
      "outputs": [
        {
          "data": {
            "text/plain": "11"
          },
          "execution_count": 9,
          "metadata": {},
          "output_type": "execute_result"
        }
      ],
      "execution_count": null
    },
    {
      "cell_type": "markdown",
      "source": "Python's built-in len() function counts all of the characters in the string, including spaces and punctuation.",
      "metadata": {
        "cell_id": "00019-44801fca-0e7a-40a0-ae35-eb1e8fb2e50b",
        "deepnote_cell_type": "markdown"
      }
    },
    {
      "cell_type": "markdown",
      "source": "## String Indexing\nWe know strings are a sequence, which means Python can use indexes to call parts of the sequence. Let's learn how this works.\n\nIn Python, we use brackets <code>[]</code> after an object to call its index. We should also note that indexing starts at 0 for Python. Let's create a new object called <code>s</code> and then walk through a few examples of indexing.",
      "metadata": {
        "cell_id": "00020-d9504fd9-8a73-4696-a808-f4c71139820c",
        "deepnote_cell_type": "markdown"
      }
    },
    {
      "cell_type": "code",
      "metadata": {
        "collapsed": true,
        "cell_id": "00021-659a5491-b160-4bca-9122-ba84fd11c5ed",
        "deepnote_cell_type": "code"
      },
      "source": "# Assign s as a string\ns = 'Hello World'",
      "outputs": [],
      "execution_count": null
    },
    {
      "cell_type": "code",
      "metadata": {
        "cell_id": "00022-5f5a6d51-0df7-4074-ba6c-329e316336bb",
        "deepnote_cell_type": "code"
      },
      "source": "#Check\ns",
      "outputs": [
        {
          "data": {
            "text/plain": "'Hello World'"
          },
          "execution_count": 11,
          "metadata": {},
          "output_type": "execute_result"
        }
      ],
      "execution_count": null
    },
    {
      "cell_type": "code",
      "metadata": {
        "cell_id": "00023-40c1c595-f8f4-4454-9d79-f5cf24fccd50",
        "deepnote_cell_type": "code"
      },
      "source": "# Print the object\nprint(s) ",
      "outputs": [
        {
          "name": "stdout",
          "output_type": "stream",
          "text": "Hello World\n"
        }
      ],
      "execution_count": null
    },
    {
      "cell_type": "markdown",
      "source": "Let's start indexing!",
      "metadata": {
        "cell_id": "00024-b2d7fb3b-7578-47e9-821b-e9f4a21d7c00",
        "deepnote_cell_type": "markdown"
      }
    },
    {
      "cell_type": "code",
      "metadata": {
        "cell_id": "00025-88d5ee94-03fc-4a84-af59-c5cb98576ceb",
        "deepnote_cell_type": "code"
      },
      "source": "# Show first element (in this case a letter)\ns[0]",
      "outputs": [
        {
          "data": {
            "text/plain": "'H'"
          },
          "execution_count": 13,
          "metadata": {},
          "output_type": "execute_result"
        }
      ],
      "execution_count": null
    },
    {
      "cell_type": "code",
      "metadata": {
        "cell_id": "00026-dd296607-813a-4515-91a4-93b69f61d8b5",
        "deepnote_cell_type": "code"
      },
      "source": "s[1]",
      "outputs": [
        {
          "data": {
            "text/plain": "'e'"
          },
          "execution_count": 14,
          "metadata": {},
          "output_type": "execute_result"
        }
      ],
      "execution_count": null
    },
    {
      "cell_type": "code",
      "metadata": {
        "cell_id": "00027-8ab85a28-a8a4-44c8-81c2-b284f6bb72b0",
        "deepnote_cell_type": "code"
      },
      "source": "s[2]",
      "outputs": [
        {
          "data": {
            "text/plain": "'l'"
          },
          "execution_count": 15,
          "metadata": {},
          "output_type": "execute_result"
        }
      ],
      "execution_count": null
    },
    {
      "cell_type": "markdown",
      "source": "We can use a <code>:</code> to perform *slicing* which grabs everything up to a designated point. For example:",
      "metadata": {
        "cell_id": "00028-8580315e-7edf-4e9c-b49b-fad7c479694c",
        "deepnote_cell_type": "markdown"
      }
    },
    {
      "cell_type": "code",
      "metadata": {
        "cell_id": "00029-ba695a9b-2ed6-44c8-8757-dcaf7316844c",
        "deepnote_cell_type": "code"
      },
      "source": "# Grab everything past the first term all the way to the length of s which is len(s)\ns[1:]",
      "outputs": [
        {
          "data": {
            "text/plain": "'ello World'"
          },
          "execution_count": 16,
          "metadata": {},
          "output_type": "execute_result"
        }
      ],
      "execution_count": null
    },
    {
      "cell_type": "code",
      "metadata": {
        "cell_id": "00030-ac0bde05-3157-4dc2-bdb3-748585e49119",
        "deepnote_cell_type": "code"
      },
      "source": "# Note that there is no change to the original s\ns",
      "outputs": [
        {
          "data": {
            "text/plain": "'Hello World'"
          },
          "execution_count": 17,
          "metadata": {},
          "output_type": "execute_result"
        }
      ],
      "execution_count": null
    },
    {
      "cell_type": "code",
      "metadata": {
        "cell_id": "00031-5f3fb45d-3477-4981-8db0-bd463355126e",
        "deepnote_cell_type": "code"
      },
      "source": "# Grab everything UP TO the 3rd index\ns[:3]",
      "outputs": [
        {
          "data": {
            "text/plain": "'Hel'"
          },
          "execution_count": 18,
          "metadata": {},
          "output_type": "execute_result"
        }
      ],
      "execution_count": null
    },
    {
      "cell_type": "markdown",
      "source": "Note the above slicing. Here we're telling Python to grab everything from 0 up to 3. It doesn't include the 3rd index. You'll notice this a lot in Python, where statements and are usually in the context of \"up to, but not including\".",
      "metadata": {
        "cell_id": "00032-ad808625-231e-4351-98d3-bacbaf173ced",
        "deepnote_cell_type": "markdown"
      }
    },
    {
      "cell_type": "code",
      "metadata": {
        "cell_id": "00033-9b545d31-d9d8-4f1c-927e-e92a433a8157",
        "deepnote_cell_type": "code"
      },
      "source": "#Everything\ns[:]",
      "outputs": [
        {
          "data": {
            "text/plain": "'Hello World'"
          },
          "execution_count": 19,
          "metadata": {},
          "output_type": "execute_result"
        }
      ],
      "execution_count": null
    },
    {
      "cell_type": "markdown",
      "source": "We can also use negative indexing to go backwards.",
      "metadata": {
        "cell_id": "00034-1b2b4a32-7691-44e3-a2be-7cc06e40a3fa",
        "deepnote_cell_type": "markdown"
      }
    },
    {
      "cell_type": "code",
      "metadata": {
        "cell_id": "00035-6641be10-cdea-49aa-b33e-7e3f9980b679",
        "deepnote_cell_type": "code"
      },
      "source": "# Last letter (one index behind 0 so it loops back around)\ns[-1]",
      "outputs": [
        {
          "data": {
            "text/plain": "'d'"
          },
          "execution_count": 20,
          "metadata": {},
          "output_type": "execute_result"
        }
      ],
      "execution_count": null
    },
    {
      "cell_type": "code",
      "metadata": {
        "cell_id": "00036-af7224cc-4de3-41b9-95ca-92090e4b42e5",
        "deepnote_cell_type": "code"
      },
      "source": "# Grab everything but the last letter\ns[:-1]",
      "outputs": [
        {
          "data": {
            "text/plain": "'Hello Worl'"
          },
          "execution_count": 21,
          "metadata": {},
          "output_type": "execute_result"
        }
      ],
      "execution_count": null
    },
    {
      "cell_type": "markdown",
      "source": "We can also use index and slice notation to grab elements of a sequence by a specified step size (the default is 1). For instance we can use two colons in a row and then a number specifying the frequency to grab elements. For example:",
      "metadata": {
        "cell_id": "00037-0cb3f41d-44c6-4e4b-bff1-74d169406222",
        "deepnote_cell_type": "markdown"
      }
    },
    {
      "cell_type": "code",
      "metadata": {
        "cell_id": "00038-71d09fb6-36d3-4f99-9cae-796f3af2bf8e",
        "deepnote_cell_type": "code"
      },
      "source": "# Grab everything, but go in steps size of 1\ns[::1]",
      "outputs": [
        {
          "data": {
            "text/plain": "'Hello World'"
          },
          "execution_count": 22,
          "metadata": {},
          "output_type": "execute_result"
        }
      ],
      "execution_count": null
    },
    {
      "cell_type": "code",
      "metadata": {
        "cell_id": "00039-51c5d696-344c-430e-a38a-800b926ee08b",
        "deepnote_cell_type": "code"
      },
      "source": "# Grab everything, but go in step sizes of 2\ns[::2]",
      "outputs": [
        {
          "data": {
            "text/plain": "'HloWrd'"
          },
          "execution_count": 23,
          "metadata": {},
          "output_type": "execute_result"
        }
      ],
      "execution_count": null
    },
    {
      "cell_type": "code",
      "metadata": {
        "cell_id": "00040-dbea1185-f97f-412c-8c14-ccd2a088572f",
        "deepnote_cell_type": "code"
      },
      "source": "# We can use this to print a string backwards\ns[::-1]",
      "outputs": [
        {
          "data": {
            "text/plain": "'dlroW olleH'"
          },
          "execution_count": 24,
          "metadata": {},
          "output_type": "execute_result"
        }
      ],
      "execution_count": null
    },
    {
      "cell_type": "markdown",
      "source": "## String Properties\nIt's important to note that strings have an important property known as *immutability*. This means that once a string is created, the elements within it can not be changed or replaced. For example:",
      "metadata": {
        "collapsed": true,
        "cell_id": "00041-9cb950b5-7304-4eb7-8895-59d75fd17c2c",
        "deepnote_cell_type": "markdown"
      }
    },
    {
      "cell_type": "code",
      "metadata": {
        "cell_id": "00042-8ae1ed6e-bbb0-461d-98e8-e9d5331ea7e5",
        "deepnote_cell_type": "code"
      },
      "source": "s",
      "outputs": [
        {
          "data": {
            "text/plain": "'Hello World'"
          },
          "execution_count": 25,
          "metadata": {},
          "output_type": "execute_result"
        }
      ],
      "execution_count": null
    },
    {
      "cell_type": "code",
      "metadata": {
        "cell_id": "00043-cf4d726d-7a17-462d-bc60-7a014ef1d505",
        "deepnote_to_be_reexecuted": false,
        "source_hash": "af0b5144",
        "execution_start": 1618848110068,
        "execution_millis": 557,
        "deepnote_cell_type": "code"
      },
      "source": "# Let's try to change the first letter to 'x'\ns[0] = 'x'",
      "outputs": [
        {
          "output_type": "error",
          "ename": "NameError",
          "evalue": "name 's' is not defined",
          "traceback": [
            "\u001b[0;31m---------------------------------------------------------------------------\u001b[0m",
            "\u001b[0;31mNameError\u001b[0m                                 Traceback (most recent call last)",
            "\u001b[0;32m<ipython-input-7-ad3132247e5b>\u001b[0m in \u001b[0;36m<module>\u001b[0;34m\u001b[0m\n\u001b[1;32m      1\u001b[0m \u001b[0;31m# Let's try to change the first letter to 'x'\u001b[0m\u001b[0;34m\u001b[0m\u001b[0;34m\u001b[0m\u001b[0;34m\u001b[0m\u001b[0m\n\u001b[0;32m----> 2\u001b[0;31m \u001b[0ms\u001b[0m\u001b[0;34m[\u001b[0m\u001b[0;36m3\u001b[0m\u001b[0;34m]\u001b[0m \u001b[0;34m=\u001b[0m \u001b[0;34m'x'\u001b[0m\u001b[0;34m\u001b[0m\u001b[0;34m\u001b[0m\u001b[0m\n\u001b[0m",
            "\u001b[0;31mNameError\u001b[0m: name 's' is not defined"
          ]
        }
      ],
      "execution_count": null
    },
    {
      "cell_type": "markdown",
      "source": "Notice how the error tells us directly what we can't do, change the item assignment!\n\nSomething we *can* do is concatenate strings!",
      "metadata": {
        "cell_id": "00044-a514a6fe-c995-4e45-8c22-2b57a7e86f05",
        "deepnote_cell_type": "markdown"
      }
    },
    {
      "cell_type": "code",
      "metadata": {
        "cell_id": "00045-b32fd6bc-4b65-4ede-990c-16c6158472b2",
        "deepnote_cell_type": "code"
      },
      "source": "s",
      "outputs": [
        {
          "data": {
            "text/plain": "'Hello World'"
          },
          "execution_count": 27,
          "metadata": {},
          "output_type": "execute_result"
        }
      ],
      "execution_count": null
    },
    {
      "cell_type": "code",
      "metadata": {
        "cell_id": "00046-2e2dee93-a96b-4936-b123-6d0a41142bbc",
        "deepnote_cell_type": "code"
      },
      "source": "# Concatenate strings!\ns + ' concatenate me!'",
      "outputs": [
        {
          "data": {
            "text/plain": "'Hello World concatenate me!'"
          },
          "execution_count": 28,
          "metadata": {},
          "output_type": "execute_result"
        }
      ],
      "execution_count": null
    },
    {
      "cell_type": "code",
      "metadata": {
        "collapsed": true,
        "cell_id": "00047-ebcd1c52-c975-4563-95a3-97f5ca366f71",
        "deepnote_cell_type": "code"
      },
      "source": "# We can reassign s completely though!\ns = s + ' concatenate me!'",
      "outputs": [],
      "execution_count": null
    },
    {
      "cell_type": "code",
      "metadata": {
        "cell_id": "00048-621dc554-816d-4089-ab1d-2aa2a82bab12",
        "deepnote_cell_type": "code"
      },
      "source": "print(s)",
      "outputs": [
        {
          "name": "stdout",
          "output_type": "stream",
          "text": "Hello World concatenate me!\n"
        }
      ],
      "execution_count": null
    },
    {
      "cell_type": "code",
      "metadata": {
        "cell_id": "00049-905b7c7b-cbb1-4778-96d5-7ff232d5fcd1",
        "deepnote_cell_type": "code"
      },
      "source": "s",
      "outputs": [
        {
          "data": {
            "text/plain": "'Hello World concatenate me!'"
          },
          "execution_count": 31,
          "metadata": {},
          "output_type": "execute_result"
        }
      ],
      "execution_count": null
    },
    {
      "cell_type": "markdown",
      "source": "We can use the multiplication symbol to create repetition!",
      "metadata": {
        "cell_id": "00050-445995f1-1ba5-490c-963a-c431664c1016",
        "deepnote_cell_type": "markdown"
      }
    },
    {
      "cell_type": "code",
      "metadata": {
        "collapsed": true,
        "cell_id": "00051-78e7b125-fef2-4ef9-b419-1035d542635b",
        "deepnote_cell_type": "code"
      },
      "source": "letter = 'z'",
      "outputs": [],
      "execution_count": null
    },
    {
      "cell_type": "code",
      "metadata": {
        "cell_id": "00052-9fc489c0-d807-4f6a-840e-a593d20bbc20",
        "deepnote_cell_type": "code"
      },
      "source": "letter*10",
      "outputs": [
        {
          "data": {
            "text/plain": "'zzzzzzzzzz'"
          },
          "execution_count": 33,
          "metadata": {},
          "output_type": "execute_result"
        }
      ],
      "execution_count": null
    },
    {
      "cell_type": "markdown",
      "source": "## Basic Built-in String methods\n\nObjects in Python usually have built-in methods. These methods are functions inside the object (we will learn about these in much more depth later) that can perform actions or commands on the object itself.\n\nWe call methods with a period and then the method name. Methods are in the form:\n\nobject.method(parameters)\n\nWhere parameters are extra arguments we can pass into the method. Don't worry if the details don't make 100% sense right now. Later on we will be creating our own objects and functions!\n\nHere are some examples of built-in methods in strings:",
      "metadata": {
        "cell_id": "00053-19dd9c92-839d-44c5-a9b3-cf683942d0d9",
        "deepnote_cell_type": "markdown"
      }
    },
    {
      "cell_type": "code",
      "metadata": {
        "cell_id": "00054-4dba6fae-60e2-4be3-8f3f-da55ec4c22a8",
        "deepnote_to_be_reexecuted": false,
        "source_hash": "9ccb32f9",
        "execution_millis": 10,
        "execution_start": 1618848884919,
        "deepnote_cell_type": "code"
      },
      "source": "s = \"12345 3456 4567\"\n\ns1 = \"learning the python\"\ns2 = s1.split()\nprint(s2[0])\nprint(s2[1])\ns2[2].split()",
      "outputs": [
        {
          "name": "stdout",
          "text": "learning\nthe\n",
          "output_type": "stream"
        },
        {
          "output_type": "execute_result",
          "execution_count": 48,
          "data": {
            "text/plain": "['python']"
          },
          "metadata": {}
        }
      ],
      "execution_count": null
    },
    {
      "cell_type": "code",
      "metadata": {
        "cell_id": "00055-b31beb47-f98d-4a55-97f4-d04aae4d61ea",
        "deepnote_to_be_reexecuted": false,
        "source_hash": "20d80cb3",
        "execution_millis": 30,
        "execution_start": 1618848463954,
        "deepnote_cell_type": "code"
      },
      "source": "# Upper Case a string\nv = s.isdecimal()\nprint(v)\n#help(s.upper)\n#dir(s)\nhelp(s.capitalize)",
      "outputs": [
        {
          "name": "stdout",
          "text": "True\nHelp on built-in function capitalize:\n\ncapitalize() method of builtins.str instance\n    Return a capitalized version of the string.\n    \n    More specifically, make the first character have upper case and the rest lower\n    case.\n\n",
          "output_type": "stream"
        }
      ],
      "execution_count": null
    },
    {
      "cell_type": "code",
      "metadata": {
        "cell_id": "00056-fdc3ca7d-f1f1-45f3-91ad-8d1b8c2bfafb",
        "deepnote_to_be_reexecuted": false,
        "source_hash": "14d4c2ca",
        "execution_start": 1618848532587,
        "execution_millis": 7,
        "deepnote_cell_type": "code"
      },
      "source": "# Lower case\ns.lower()",
      "outputs": [
        {
          "output_type": "execute_result",
          "execution_count": 33,
          "data": {
            "text/plain": "'12345'"
          },
          "metadata": {}
        }
      ],
      "execution_count": null
    },
    {
      "cell_type": "code",
      "metadata": {
        "cell_id": "00057-24aa7e30-4f55-4fd9-9c7f-6476b3076e6a",
        "deepnote_to_be_reexecuted": false,
        "source_hash": "16522c6c",
        "execution_start": 1618848550978,
        "execution_millis": 19,
        "deepnote_cell_type": "code"
      },
      "source": "# Split a string by blank space (this is the default)\ns.split()",
      "outputs": [
        {
          "output_type": "execute_result",
          "execution_count": 35,
          "data": {
            "text/plain": "['12345', '3456', '4567']"
          },
          "metadata": {}
        }
      ],
      "execution_count": null
    },
    {
      "cell_type": "code",
      "metadata": {
        "cell_id": "00058-a43f9ba5-edb7-47cc-a839-7199e08d93de",
        "deepnote_to_be_reexecuted": false,
        "source_hash": "695541e8",
        "execution_millis": 44,
        "execution_start": 1618848648634,
        "deepnote_cell_type": "code"
      },
      "source": "# Split by a specific element (doesn't include the element that was split on)\ns1 = s.split('12345')\ns1[0].split()\ns1",
      "outputs": [
        {
          "output_type": "execute_result",
          "execution_count": 40,
          "data": {
            "text/plain": "['', ' 3456 4567']"
          },
          "metadata": {}
        }
      ],
      "execution_count": null
    },
    {
      "cell_type": "markdown",
      "source": "There are many more methods than the ones covered here. Visit the Advanced String section to find out more!",
      "metadata": {
        "cell_id": "00059-3ccf548a-e792-401b-9a42-89e2310b768e",
        "deepnote_cell_type": "markdown"
      }
    },
    {
      "cell_type": "markdown",
      "source": "## Print Formatting\n\nWe can use the .format() method to add formatted objects to printed string statements. \n\nThe easiest way to show this is through an example:",
      "metadata": {
        "cell_id": "00060-c38e4968-a727-4847-a6f5-e444669bc691",
        "deepnote_cell_type": "markdown"
      }
    },
    {
      "cell_type": "code",
      "metadata": {
        "cell_id": "00061-55371347-9163-4ddd-a687-6530dea7453a",
        "deepnote_cell_type": "code"
      },
      "source": "'Insert another string with curly brackets: {}'.format('The inserted string')",
      "outputs": [
        {
          "data": {
            "text/plain": "'Insert another string with curly brackets: The inserted string'"
          },
          "execution_count": 39,
          "metadata": {},
          "output_type": "execute_result"
        }
      ],
      "execution_count": null
    },
    {
      "cell_type": "code",
      "source": "s1 = \"test\"\nprint('python is fun to', s1) # plan format\nprint('python is fun to {}'.format(s1)) # using format option\n#dir(s1)\n#help(s1.format)\nprint(s1.format,{s1})\n\ntxt = \"For only {price:.5f} dollars!\"\nprint(txt.format(price = 49))",
      "metadata": {
        "tags": [],
        "cell_id": "00061-24dc74a5-51b3-4da7-b8dd-4d9538502617",
        "deepnote_to_be_reexecuted": false,
        "source_hash": "d3d2ea8",
        "execution_millis": 8,
        "execution_start": 1618849390247,
        "deepnote_cell_type": "code"
      },
      "outputs": [
        {
          "name": "stdout",
          "text": "python is fun to test\npython is fun to test\n<built-in method format of str object at 0x7fed7784dc70> {'test'}\nFor only 49.00000 dollars!\n",
          "output_type": "stream"
        }
      ],
      "execution_count": null
    },
    {
      "cell_type": "markdown",
      "source": "<a style='text-decoration:none;line-height:16px;display:flex;color:#5B5B62;padding:10px;justify-content:end;' href='https://deepnote.com?utm_source=created-in-deepnote-cell&projectId=c3147b9a-1437-4d7f-b3a6-141719e97be4' target=\"_blank\">\n<img alt='Created in deepnote.com' style='display:inline;max-height:16px;margin:0px;margin-right:7.5px;' src='data:image/svg+xml;base64,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' > </img>\nCreated in <span style='font-weight:600;margin-left:4px;'>Deepnote</span></a>",
      "metadata": {
        "tags": [],
        "created_in_deepnote_cell": true,
        "deepnote_cell_type": "markdown"
      }
    }
  ],
  "nbformat": 4,
  "nbformat_minor": 1,
  "metadata": {
    "kernelspec": {
      "display_name": "Python 3",
      "language": "python",
      "name": "python3"
    },
    "language_info": {
      "codemirror_mode": {
        "name": "ipython",
        "version": 3
      },
      "file_extension": ".py",
      "mimetype": "text/x-python",
      "name": "python",
      "nbconvert_exporter": "python",
      "pygments_lexer": "ipython3",
      "version": "3.6.6"
    },
    "deepnote_notebook_id": "2d7ccc4b-0821-479b-a64c-155ddd6a0c9d",
    "deepnote": {},
    "deepnote_execution_queue": []
  }
}