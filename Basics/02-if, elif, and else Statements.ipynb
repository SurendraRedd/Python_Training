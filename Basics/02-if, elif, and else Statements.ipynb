{
  "cells": [
    {
      "cell_type": "markdown",
      "source": "# if, elif, else Statements\n\n<code>if</code> Statements in Python allows us to tell the computer to perform alternative actions based on a certain set of results.\n\nVerbally, we can imagine we are telling the computer:\n\n\"Hey if this case happens, perform some action\"\n\nWe can then expand the idea further with <code>elif</code> and <code>else</code> statements, which allow us to tell the computer:\n\n\"Hey if this case happens, perform some action. Else, if another case happens, perform some other action. Else, if *none* of the above cases happened, perform this action.\"\n\nLet's go ahead and look at the syntax format for <code>if</code> statements to get a better idea of this:\n\n    if case1:\n        perform action1\n    elif case2:\n        perform action2\n    else: \n        perform action3",
      "metadata": {
        "cell_id": "00001-87abe15d-923b-4a4c-925f-1af1eaf8e053",
        "deepnote_cell_type": "markdown"
      }
    },
    {
      "cell_type": "markdown",
      "source": "## First Example\n\nLet's see a quick example of this:",
      "metadata": {
        "cell_id": "00002-4fd4a8cf-5b30-420d-a241-933e94278661",
        "deepnote_cell_type": "markdown"
      }
    },
    {
      "cell_type": "code",
      "metadata": {
        "cell_id": "00003-78ed02f7-1fdd-45a9-a23b-5256d17ee60d",
        "deepnote_cell_type": "code"
      },
      "source": "if True:\n    print('It was true!')",
      "outputs": [
        {
          "name": "stdout",
          "output_type": "stream",
          "text": "It was true!\n"
        }
      ],
      "execution_count": null
    },
    {
      "cell_type": "markdown",
      "source": "Let's add in some else logic:",
      "metadata": {
        "cell_id": "00004-c6eb3fb8-245a-4054-9634-846b48e0d2f6",
        "deepnote_cell_type": "markdown"
      }
    },
    {
      "cell_type": "code",
      "metadata": {
        "cell_id": "00005-770b56bf-5760-497b-8d33-c01b9655decf",
        "deepnote_cell_type": "code"
      },
      "source": "x = False\n\nif x:\n    print('x was True!')\nelse:\n    print('I will be printed in any case where x is not true')",
      "outputs": [
        {
          "name": "stdout",
          "output_type": "stream",
          "text": "I will be printed in any case where x is not true\n"
        }
      ],
      "execution_count": null
    },
    {
      "cell_type": "markdown",
      "source": "### Multiple Branches\n\nLet's get a fuller picture of how far <code>if</code>, <code>elif</code>, and <code>else</code> can take us!\n\nWe write this out in a nested structure. Take note of how the <code>if</code>, <code>elif</code>, and <code>else</code> line up in the code. This can help you see what <code>if</code> is related to what <code>elif</code> or <code>else</code> statements.\n\nWe'll reintroduce a comparison syntax for Python.",
      "metadata": {
        "cell_id": "00006-f5cd8080-d1dd-4967-b9cc-1c5db619c9c5",
        "deepnote_cell_type": "markdown"
      }
    },
    {
      "cell_type": "code",
      "metadata": {
        "cell_id": "00007-fd8dbf70-fcc8-4f13-968c-15316003dc86",
        "deepnote_to_be_reexecuted": false,
        "source_hash": "f3de3f46",
        "execution_start": 1618849530031,
        "execution_millis": 8,
        "deepnote_cell_type": "code"
      },
      "source": "loc = 'home' # Assignment Operator\n\nif loc == 'Auto Shop': # Equal Operator\n    print('Welcome to the Auto Shop!')\nelif loc == 'Bank':\n    print('Welcome to the bank!')\nelif loc == 'home':\n    print('Welcome to the home!')\nelse:\n    print('Where are you?')",
      "outputs": [
        {
          "name": "stdout",
          "text": "Welcome to the home!\n",
          "output_type": "stream"
        }
      ],
      "execution_count": null
    },
    {
      "cell_type": "markdown",
      "source": "Note how the nested <code>if</code> statements are each checked until a True boolean causes the nested code below it to run. You should also note that you can put in as many <code>elif</code> statements as you want before you close off with an <code>else</code>.\n\nLet's create two more simple examples for the <code>if</code>, <code>elif</code>, and <code>else</code> statements:",
      "metadata": {
        "cell_id": "00008-aafd9459-83b2-4166-ac18-cc61b1c6cb71",
        "deepnote_cell_type": "markdown"
      }
    },
    {
      "cell_type": "code",
      "metadata": {
        "cell_id": "00009-3382b046-0cc8-4d58-9b5d-c93fc9417e0c",
        "deepnote_cell_type": "code"
      },
      "source": "person = 'Sammy'\n\nif person == 'Sammy':\n    print('Welcome Sammy!')\nelse:\n    print(\"Welcome, what's your name?\")",
      "outputs": [
        {
          "name": "stdout",
          "output_type": "stream",
          "text": "Welcome Sammy!\n"
        }
      ],
      "execution_count": null
    },
    {
      "cell_type": "code",
      "metadata": {
        "cell_id": "00010-0abce415-4654-4bf9-86de-f8f5805fb873",
        "deepnote_cell_type": "code"
      },
      "source": "person = 'George'\n\nif person == 'Sammy':\n    print('Welcome Sammy!')\nelif person =='George':\n    print('Welcome George!')\nelse:\n    print(\"Welcome, what's your name?\")",
      "outputs": [
        {
          "name": "stdout",
          "output_type": "stream",
          "text": "Welcome George!\n"
        }
      ],
      "execution_count": null
    },
    {
      "cell_type": "markdown",
      "source": "## Indentation\n\nIt is important to keep a good understanding of how indentation works in Python to maintain the structure and order of your code. We will touch on this topic again when we start building out functions!",
      "metadata": {
        "cell_id": "00011-8eccb66a-d010-473c-9b37-aa75fdaa5269",
        "deepnote_cell_type": "markdown"
      }
    },
    {
      "cell_type": "markdown",
      "source": "<a style='text-decoration:none;line-height:16px;display:flex;color:#5B5B62;padding:10px;justify-content:end;' href='https://deepnote.com?utm_source=created-in-deepnote-cell&projectId=c3147b9a-1437-4d7f-b3a6-141719e97be4' target=\"_blank\">\n<img alt='Created in deepnote.com' style='display:inline;max-height:16px;margin:0px;margin-right:7.5px;' src='data:image/svg+xml;base64,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' > </img>\nCreated in <span style='font-weight:600;margin-left:4px;'>Deepnote</span></a>",
      "metadata": {
        "tags": [],
        "created_in_deepnote_cell": true,
        "deepnote_cell_type": "markdown"
      }
    }
  ],
  "nbformat": 4,
  "nbformat_minor": 1,
  "metadata": {
    "kernelspec": {
      "display_name": "Python 3",
      "language": "python",
      "name": "python3"
    },
    "language_info": {
      "codemirror_mode": {
        "name": "ipython",
        "version": 3
      },
      "file_extension": ".py",
      "mimetype": "text/x-python",
      "name": "python",
      "nbconvert_exporter": "python",
      "pygments_lexer": "ipython3",
      "version": "3.6.6"
    },
    "deepnote_notebook_id": "490eb04f-c4ea-45af-a327-cb41fba06e85",
    "deepnote": {},
    "deepnote_execution_queue": []
  }
}