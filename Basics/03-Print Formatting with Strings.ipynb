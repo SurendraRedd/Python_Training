{
  "cells": [
    {
      "cell_type": "markdown",
      "source": "# String Formatting\n\nString formatting lets you inject items into a string rather than trying to chain items together using commas or string concatenation. As a quick comparison, consider:\n\n    player = 'Thomas'\n    points = 33\n    \n    'Last night, '+player+' scored '+str(points)+' points.'  # concatenation\n    \n    f'Last night, {player} scored {points} points.'          # string formatting\n\n\nThere are three ways to perform string formatting.\n* The oldest method involves placeholders using the modulo `%` character.\n* An improved technique uses the `.format()` string method.\n* The newest method, introduced with Python 3.6, uses formatted string literals, called *f-strings*.\n\nSince you will likely encounter all three versions in someone else's code, we describe each of them here.",
      "metadata": {
        "cell_id": "00001-6bc9ba8b-b469-49c2-8187-356ba1b940c3",
        "deepnote_cell_type": "markdown"
      }
    },
    {
      "cell_type": "markdown",
      "source": "## Formatting with placeholders\nYou can use <code>%s</code> to inject strings into your print statements. The modulo `%` is referred to as a \"string formatting operator\".",
      "metadata": {
        "cell_id": "00002-2fc9d15f-bd15-4f40-83fc-63fe6d60b298",
        "deepnote_cell_type": "markdown"
      }
    },
    {
      "cell_type": "code",
      "metadata": {
        "cell_id": "00003-d3c4f8a9-a6f4-41bb-b7ec-1cd1a3c7839b",
        "deepnote_cell_type": "code"
      },
      "source": "print(\"I'm going to inject %s here.\" %'something')",
      "execution_count": 1,
      "outputs": [
        {
          "name": "stdout",
          "output_type": "stream",
          "text": "I'm going to inject something here.\n"
        }
      ]
    },
    {
      "cell_type": "markdown",
      "source": "You can pass multiple items by placing them inside a tuple after the `%` operator.",
      "metadata": {
        "cell_id": "00004-bd13d083-f62a-4e1f-b1ee-6666058fa7fe",
        "deepnote_cell_type": "markdown"
      }
    },
    {
      "cell_type": "code",
      "metadata": {
        "cell_id": "00005-f1e33aa6-03a0-451a-87c6-2d3eb043f518",
        "deepnote_cell_type": "code"
      },
      "source": "print(\"I'm going to inject %s text here, and %s text here.\" %('some','more'))",
      "execution_count": 2,
      "outputs": [
        {
          "name": "stdout",
          "output_type": "stream",
          "text": "I'm going to inject some text here, and more text here.\n"
        }
      ]
    },
    {
      "cell_type": "markdown",
      "source": "You can also pass variable names:",
      "metadata": {
        "cell_id": "00006-4624555e-4855-4f0a-859e-512eba7df110",
        "deepnote_cell_type": "markdown"
      }
    },
    {
      "cell_type": "code",
      "metadata": {
        "cell_id": "00007-11b32c60-32cf-4f83-92f3-ea0b32c887a4",
        "deepnote_cell_type": "code"
      },
      "source": "x, y = 'some', 'more'\nprint(\"I'm going to inject %s text here, and %s text here.\"%(x,y))",
      "execution_count": 3,
      "outputs": [
        {
          "name": "stdout",
          "output_type": "stream",
          "text": "I'm going to inject some text here, and more text here.\n"
        }
      ]
    },
    {
      "cell_type": "markdown",
      "source": "### Format conversion methods.\nIt should be noted that two methods <code>%s</code> and <code>%r</code> convert any python object to a string using two separate methods: `str()` and `repr()`. We will learn more about these functions later on in the course, but you should note that `%r` and `repr()` deliver the *string representation* of the object, including quotation marks and any escape characters.",
      "metadata": {
        "cell_id": "00008-adfc07af-fb0d-4673-bb6d-984ed9aa91c4",
        "deepnote_cell_type": "markdown"
      }
    },
    {
      "cell_type": "code",
      "metadata": {
        "cell_id": "00009-fa58c6a0-4fbb-4a5d-b8a5-d87b14dae7fe",
        "deepnote_cell_type": "code"
      },
      "source": "print('He said his name was %s.' %'Fred')\nprint('He said his name was %r.' %'Fred')",
      "execution_count": 4,
      "outputs": [
        {
          "name": "stdout",
          "output_type": "stream",
          "text": "He said his name was Fred.\nHe said his name was 'Fred'.\n"
        }
      ]
    },
    {
      "cell_type": "markdown",
      "source": "As another example, `\\t` inserts a tab into a string.",
      "metadata": {
        "cell_id": "00010-a8de658d-0301-4444-9466-44b42c0bb3f4",
        "deepnote_cell_type": "markdown"
      }
    },
    {
      "cell_type": "code",
      "metadata": {
        "cell_id": "00011-03d04c46-add3-44d2-87fc-5a247c56cf41",
        "deepnote_cell_type": "code"
      },
      "source": "print('I once caught a fish %s.' %'this \\tbig')\nprint('I once caught a fish %r.' %'this \\tbig')",
      "execution_count": 5,
      "outputs": [
        {
          "name": "stdout",
          "output_type": "stream",
          "text": "I once caught a fish this \tbig.\nI once caught a fish 'this \\tbig'.\n"
        }
      ]
    },
    {
      "cell_type": "markdown",
      "source": "The `%s` operator converts whatever it sees into a string, including integers and floats. The `%d` operator converts numbers to integers first, without rounding. Note the difference below:",
      "metadata": {
        "cell_id": "00012-1384fdd9-6432-4cb6-81ca-af3393e8f097",
        "deepnote_cell_type": "markdown"
      }
    },
    {
      "cell_type": "code",
      "metadata": {
        "cell_id": "00013-5a2955da-cb4b-4144-b48d-d3d80ac9c316",
        "deepnote_cell_type": "code"
      },
      "source": "print('I wrote %s programs today.' %3.75)\nprint('I wrote %d programs today.' %3.75)   ",
      "execution_count": 6,
      "outputs": [
        {
          "name": "stdout",
          "output_type": "stream",
          "text": "I wrote 3.75 programs today.\nI wrote 3 programs today.\n"
        }
      ]
    },
    {
      "cell_type": "markdown",
      "source": "### Padding and Precision of Floating Point Numbers\nFloating point numbers use the format <code>%5.2f</code>. Here, <code>5</code> would be the minimum number of characters the string should contain; these may be padded with whitespace if the entire number does not have this many digits. Next to this, <code>.2f</code> stands for how many numbers to show past the decimal point. Let's see some examples:",
      "metadata": {
        "cell_id": "00014-602b2f85-7c02-4a36-8cda-a0b5f74a37c1",
        "deepnote_cell_type": "markdown"
      }
    },
    {
      "cell_type": "code",
      "metadata": {
        "cell_id": "00015-294e6075-bf9b-4412-b2b5-fa57828ddb5f",
        "deepnote_cell_type": "code"
      },
      "source": "print('Floating point numbers: %5.2f' %(13.144))",
      "execution_count": 7,
      "outputs": [
        {
          "name": "stdout",
          "output_type": "stream",
          "text": "Floating point numbers: 13.14\n"
        }
      ]
    },
    {
      "cell_type": "code",
      "metadata": {
        "cell_id": "00016-f0b12df7-30b8-4a9f-9941-838d050866e9",
        "deepnote_cell_type": "code"
      },
      "source": "print('Floating point numbers: %1.0f' %(13.144))",
      "execution_count": 8,
      "outputs": [
        {
          "name": "stdout",
          "output_type": "stream",
          "text": "Floating point numbers: 13\n"
        }
      ]
    },
    {
      "cell_type": "code",
      "metadata": {
        "cell_id": "00017-8382a3c9-9cea-4aa2-85fb-75e4695de508",
        "deepnote_cell_type": "code"
      },
      "source": "print('Floating point numbers: %1.5f' %(13.144))",
      "execution_count": 9,
      "outputs": [
        {
          "name": "stdout",
          "output_type": "stream",
          "text": "Floating point numbers: 13.14400\n"
        }
      ]
    },
    {
      "cell_type": "code",
      "metadata": {
        "cell_id": "00018-5da4f830-54d4-4c42-bc25-564b81d9dae8",
        "deepnote_cell_type": "code"
      },
      "source": "print('Floating point numbers: %10.2f' %(13.144))",
      "execution_count": 10,
      "outputs": [
        {
          "name": "stdout",
          "output_type": "stream",
          "text": "Floating point numbers:      13.14\n"
        }
      ]
    },
    {
      "cell_type": "code",
      "metadata": {
        "cell_id": "00019-21088c5e-a50c-42c9-a81a-d8cbad08eac1",
        "deepnote_cell_type": "code"
      },
      "source": "print('Floating point numbers: %25.2f' %(13.144))",
      "execution_count": 11,
      "outputs": [
        {
          "name": "stdout",
          "output_type": "stream",
          "text": "Floating point numbers:                     13.14\n"
        }
      ]
    },
    {
      "cell_type": "markdown",
      "source": "For more information on string formatting with placeholders visit https://docs.python.org/3/library/stdtypes.html#old-string-formatting",
      "metadata": {
        "cell_id": "00020-ee5861b0-270f-47f3-b4d8-61782ef73118",
        "deepnote_cell_type": "markdown"
      }
    },
    {
      "cell_type": "markdown",
      "source": "### Multiple Formatting\nNothing prohibits using more than one conversion tool in the same print statement:",
      "metadata": {
        "cell_id": "00021-31e7a39a-26d0-4586-ae04-624300e6a099",
        "deepnote_cell_type": "markdown"
      }
    },
    {
      "cell_type": "code",
      "metadata": {
        "cell_id": "00022-9d5eeda7-2be1-4272-9b52-792db5c2010c",
        "deepnote_cell_type": "code"
      },
      "source": "print('First: %s, Second: %5.2f, Third: %r' %('hi!',3.1415,'bye!'))",
      "execution_count": 12,
      "outputs": [
        {
          "name": "stdout",
          "output_type": "stream",
          "text": "First: hi!, Second:  3.14, Third: 'bye!'\n"
        }
      ]
    },
    {
      "cell_type": "markdown",
      "source": "## Formatting with the `.format()` method\nA better way to format objects into your strings for print statements is with the string `.format()` method. The syntax is:\n\n    'String here {} then also {}'.format('something1','something2')\n    \nFor example:",
      "metadata": {
        "cell_id": "00023-fa8f51dc-3f67-4121-b173-75839b75e5a1",
        "deepnote_cell_type": "markdown"
      }
    },
    {
      "cell_type": "code",
      "metadata": {
        "cell_id": "00024-7995d1ff-aff6-4e8b-8fcd-6bbc6ab4c80c",
        "deepnote_cell_type": "code"
      },
      "source": "print('This is a string with an {}'.format('insert'))",
      "execution_count": 13,
      "outputs": [
        {
          "name": "stdout",
          "output_type": "stream",
          "text": "This is a string with an insert\n"
        }
      ]
    },
    {
      "cell_type": "markdown",
      "source": "### The .format() method has several advantages over the %s placeholder method:",
      "metadata": {
        "cell_id": "00025-462724a6-4541-4fb7-9ade-c7e4d5340b53",
        "deepnote_cell_type": "markdown"
      }
    },
    {
      "cell_type": "markdown",
      "source": "#### 1. Inserted objects can be called by index position:",
      "metadata": {
        "cell_id": "00026-bd7df7e2-fe9a-440d-b3cc-89e0c75fed7e",
        "deepnote_cell_type": "markdown"
      }
    },
    {
      "cell_type": "code",
      "metadata": {
        "cell_id": "00027-b68c72b2-4a3d-48de-9fd6-01a68d54fd77",
        "deepnote_cell_type": "code"
      },
      "source": "print('The {2} {1} {0}'.format('fox','brown','quick'))",
      "execution_count": 14,
      "outputs": [
        {
          "name": "stdout",
          "output_type": "stream",
          "text": "The quick brown fox\n"
        }
      ]
    },
    {
      "cell_type": "markdown",
      "source": "#### 2. Inserted objects can be assigned keywords:",
      "metadata": {
        "cell_id": "00028-138ff67c-5f56-48a6-9827-68a18c72af5c",
        "deepnote_cell_type": "markdown"
      }
    },
    {
      "cell_type": "code",
      "metadata": {
        "cell_id": "00029-0c15cc2e-f617-496c-ad6a-a74ea8776d0b",
        "deepnote_cell_type": "code"
      },
      "source": "print('First Object: {a}, Second Object: {b}, Third Object: {c}'.format(a=1,b='Two',c=12.3))",
      "execution_count": 15,
      "outputs": [
        {
          "name": "stdout",
          "output_type": "stream",
          "text": "First Object: 1, Second Object: Two, Third Object: 12.3\n"
        }
      ]
    },
    {
      "cell_type": "markdown",
      "source": "#### 3. Inserted objects can be reused, avoiding duplication:",
      "metadata": {
        "cell_id": "00030-55555cbd-ece6-4267-abed-5827538d047f",
        "deepnote_cell_type": "markdown"
      }
    },
    {
      "cell_type": "code",
      "metadata": {
        "cell_id": "00031-d8b5b439-833e-4f5a-ab59-7e2594a72958",
        "deepnote_cell_type": "code"
      },
      "source": "print('A %s saved is a %s earned.' %('penny','penny'))\n# vs.\nprint('A {p} saved is a {p} earned.'.format(p='penny'))",
      "execution_count": 16,
      "outputs": [
        {
          "name": "stdout",
          "output_type": "stream",
          "text": "A penny saved is a penny earned.\nA penny saved is a penny earned.\n"
        }
      ]
    },
    {
      "cell_type": "markdown",
      "source": "### Alignment, padding and precision with `.format()`\nWithin the curly braces you can assign field lengths, left/right alignments, rounding parameters and more",
      "metadata": {
        "cell_id": "00032-32ff6942-9cde-4003-a5cc-33ae835be13c",
        "deepnote_cell_type": "markdown"
      }
    },
    {
      "cell_type": "code",
      "metadata": {
        "cell_id": "00033-5594f7c9-2947-44d3-8ca5-59b434a61a05",
        "deepnote_cell_type": "code"
      },
      "source": "print('{0:8} | {1:9}'.format('Fruit', 'Quantity'))\nprint('{0:8} | {1:9}'.format('Apples', 3.))\nprint('{0:8} | {1:9}'.format('Oranges', 10))",
      "execution_count": 17,
      "outputs": [
        {
          "name": "stdout",
          "output_type": "stream",
          "text": "Fruit    | Quantity \nApples   |       3.0\nOranges  |        10\n"
        }
      ]
    },
    {
      "cell_type": "markdown",
      "source": "By default, `.format()` aligns text to the left, numbers to the right. You can pass an optional `<`,`^`, or `>` to set a left, center or right alignment:",
      "metadata": {
        "cell_id": "00034-f461937f-c428-4ada-b104-7a30c52b6b3c",
        "deepnote_cell_type": "markdown"
      }
    },
    {
      "cell_type": "code",
      "metadata": {
        "cell_id": "00035-736f5aea-8031-4359-8a70-0d4bf4d54c1b",
        "deepnote_cell_type": "code"
      },
      "source": "print('{0:<8} | {1:^8} | {2:>8}'.format('Left','Center','Right'))\nprint('{0:<8} | {1:^8} | {2:>8}'.format(11,22,33))",
      "execution_count": 18,
      "outputs": [
        {
          "name": "stdout",
          "output_type": "stream",
          "text": "Left     |  Center  |    Right\n11       |    22    |       33\n"
        }
      ]
    },
    {
      "cell_type": "markdown",
      "source": "You can precede the aligment operator with a padding character",
      "metadata": {
        "cell_id": "00036-6d6955ac-53de-4c23-b8e1-368e280953de",
        "deepnote_cell_type": "markdown"
      }
    },
    {
      "cell_type": "code",
      "metadata": {
        "cell_id": "00037-66443748-5eb0-4579-afa4-cd2c0daa2806",
        "deepnote_cell_type": "code"
      },
      "source": "print('{0:=<8} | {1:-^8} | {2:.>8}'.format('Left','Center','Right'))\nprint('{0:=<8} | {1:-^8} | {2:.>8}'.format(11,22,33))",
      "execution_count": 19,
      "outputs": [
        {
          "name": "stdout",
          "output_type": "stream",
          "text": "Left==== | -Center- | ...Right\n11====== | ---22--- | ......33\n"
        }
      ]
    },
    {
      "cell_type": "markdown",
      "source": "Field widths and float precision are handled in a way similar to placeholders. The following two print statements are equivalent:",
      "metadata": {
        "cell_id": "00038-b546900a-c891-4ce8-9601-50e2f15b7d50",
        "deepnote_cell_type": "markdown"
      }
    },
    {
      "cell_type": "code",
      "metadata": {
        "cell_id": "00039-d185633b-fbc1-42c9-95e6-b37ec5305ffb",
        "deepnote_cell_type": "code"
      },
      "source": "print('This is my ten-character, two-decimal number:%10.2f' %13.579)\nprint('This is my ten-character, two-decimal number:{0:10.2f}'.format(13.579))",
      "execution_count": 20,
      "outputs": [
        {
          "name": "stdout",
          "output_type": "stream",
          "text": "This is my ten-character, two-decimal number:     13.58\nThis is my ten-character, two-decimal number:     13.58\n"
        }
      ]
    },
    {
      "cell_type": "markdown",
      "source": "Note that there are 5 spaces following the colon, and 5 characters taken up by 13.58, for a total of ten characters.\n\nFor more information on the string `.format()` method visit https://docs.python.org/3/library/string.html#formatstrings",
      "metadata": {
        "cell_id": "00040-75aee80e-7ce3-41c6-b338-4e21223a2c04",
        "deepnote_cell_type": "markdown"
      }
    },
    {
      "cell_type": "markdown",
      "source": "## Formatted String Literals (f-strings)",
      "metadata": {
        "cell_id": "00041-3465ee9b-9389-4407-b6d3-eb41427802c5",
        "deepnote_cell_type": "markdown"
      }
    },
    {
      "cell_type": "markdown",
      "source": "Introduced in Python 3.6, f-strings offer several benefits over the older `.format()` string method described above. For one, you can bring outside variables immediately into to the string rather than pass them as arguments through `.format(var)`.",
      "metadata": {
        "cell_id": "00042-8f08be43-b3a1-439b-9ab7-ab7ee8f91527",
        "deepnote_cell_type": "markdown"
      }
    },
    {
      "cell_type": "code",
      "metadata": {
        "cell_id": "00043-eaa2b4b2-80d8-42bc-87f3-7180b3d67839",
        "deepnote_cell_type": "code"
      },
      "source": "name = 'Fred'\n\nprint(f\"He said his name is {name}.\")",
      "execution_count": 21,
      "outputs": [
        {
          "name": "stdout",
          "output_type": "stream",
          "text": "He said his name is Fred.\n"
        }
      ]
    },
    {
      "cell_type": "markdown",
      "source": "Pass `!r` to get the string representation:",
      "metadata": {
        "cell_id": "00044-ad513264-d97e-4cfe-a6d8-a5ada57f52a2",
        "deepnote_cell_type": "markdown"
      }
    },
    {
      "cell_type": "code",
      "metadata": {
        "cell_id": "00045-6dd09763-1b2f-4ce8-9ab3-9b44986e31a1",
        "deepnote_cell_type": "code"
      },
      "source": "print(f\"He said his name is {name!r}\")",
      "execution_count": 22,
      "outputs": [
        {
          "name": "stdout",
          "output_type": "stream",
          "text": "He said his name is 'Fred'\n"
        }
      ]
    },
    {
      "cell_type": "markdown",
      "source": "#### Float formatting follows `\"result: {value:{width}.{precision}}\"`",
      "metadata": {
        "cell_id": "00046-92e83400-db4a-42ce-8749-9a92b9ef0fd7",
        "deepnote_cell_type": "markdown"
      }
    },
    {
      "cell_type": "markdown",
      "source": "Where with the `.format()` method you might see `{value:10.4f}`, with f-strings this can become `{value:{10}.{6}}`\n",
      "metadata": {
        "cell_id": "00047-0490b162-dd74-449d-8474-2a4da391b076",
        "deepnote_cell_type": "markdown"
      }
    },
    {
      "cell_type": "code",
      "metadata": {
        "cell_id": "00048-a2db23e6-118f-4485-a16d-0e84361dfc9a",
        "deepnote_cell_type": "code"
      },
      "source": "num = 23.45678\nprint(\"My 10 character, four decimal number is:{0:10.4f}\".format(num))\nprint(f\"My 10 character, four decimal number is:{num:{10}.{6}}\")",
      "execution_count": 23,
      "outputs": [
        {
          "name": "stdout",
          "output_type": "stream",
          "text": "My 10 character, four decimal number is:   23.4568\nMy 10 character, four decimal number is:   23.4568\n"
        }
      ]
    },
    {
      "cell_type": "markdown",
      "source": "Note that with f-strings, *precision* refers to the total number of digits, not just those following the decimal. This fits more closely with scientific notation and statistical analysis. Unfortunately, f-strings do not pad to the right of the decimal, even if precision allows it:",
      "metadata": {
        "cell_id": "00049-e27d2ab6-a4cd-41a6-a5cd-600dcd85e180",
        "deepnote_cell_type": "markdown"
      }
    },
    {
      "cell_type": "code",
      "metadata": {
        "cell_id": "00050-2742789b-a192-4c01-8c74-9a7100964a8d",
        "deepnote_cell_type": "code"
      },
      "source": "num = 23.45\nprint(\"My 10 character, four decimal number is:{0:10.4f}\".format(num))\nprint(f\"My 10 character, four decimal number is:{num:{10}.{6}}\")",
      "execution_count": 24,
      "outputs": [
        {
          "name": "stdout",
          "output_type": "stream",
          "text": "My 10 character, four decimal number is:   23.4500\nMy 10 character, four decimal number is:     23.45\n"
        }
      ]
    },
    {
      "cell_type": "markdown",
      "source": "If this becomes important, you can always use `.format()` method syntax inside an f-string:",
      "metadata": {
        "cell_id": "00051-9ff5057a-fd5e-439e-b9d3-99a5c0d37503",
        "deepnote_cell_type": "markdown"
      }
    },
    {
      "cell_type": "code",
      "metadata": {
        "cell_id": "00052-0797e9e3-51bf-4793-9837-31cba9e3fd79",
        "deepnote_cell_type": "code"
      },
      "source": "num = 23.45\nprint(\"My 10 character, four decimal number is:{0:10.4f}\".format(num))\nprint(f\"My 10 character, four decimal number is:{num:10.4f}\")",
      "execution_count": 25,
      "outputs": [
        {
          "name": "stdout",
          "output_type": "stream",
          "text": "My 10 character, four decimal number is:   23.4500\nMy 10 character, four decimal number is:   23.4500\n"
        }
      ]
    },
    {
      "cell_type": "markdown",
      "source": "For more info on formatted string literals visit https://docs.python.org/3/reference/lexical_analysis.html#f-strings",
      "metadata": {
        "cell_id": "00053-31ab4e75-c7d2-4e5d-bc94-4d1a7fdfd5f3",
        "deepnote_cell_type": "markdown"
      }
    },
    {
      "cell_type": "markdown",
      "source": "That is the basics of string formatting!",
      "metadata": {
        "cell_id": "00054-eaabed9e-9c19-42c5-b053-0f66863d4e0d",
        "deepnote_cell_type": "markdown"
      }
    },
    {
      "cell_type": "markdown",
      "source": "<a style='text-decoration:none;line-height:16px;display:flex;color:#5B5B62;padding:10px;justify-content:end;' href='https://deepnote.com?utm_source=created-in-deepnote-cell&projectId=889a6f52-63c5-407b-987d-c22a33194e6a' target=\"_blank\">\n<img alt='Created in deepnote.com' style='display:inline;max-height:16px;margin:0px;margin-right:7.5px;' src='data:image/svg+xml;base64,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' > </img>\nCreated in <span style='font-weight:600;margin-left:4px;'>Deepnote</span></a>",
      "metadata": {
        "tags": [],
        "created_in_deepnote_cell": true,
        "deepnote_cell_type": "markdown"
      }
    }
  ],
  "nbformat": 4,
  "nbformat_minor": 1,
  "metadata": {
    "kernelspec": {
      "display_name": "Python 3",
      "language": "python",
      "name": "python3"
    },
    "language_info": {
      "codemirror_mode": {
        "name": "ipython",
        "version": 3
      },
      "file_extension": ".py",
      "mimetype": "text/x-python",
      "name": "python",
      "nbconvert_exporter": "python",
      "pygments_lexer": "ipython3",
      "version": "3.6.6"
    },
    "deepnote_notebook_id": "dabc204b-63b2-42aa-b786-4a47fbb3ec39",
    "deepnote": {},
    "deepnote_execution_queue": []
  }
}