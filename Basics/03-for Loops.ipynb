{
  "cells": [
    {
      "cell_type": "markdown",
      "source": "# for Loops\n\nA <code>for</code> loop acts as an iterator in Python; it goes through items that are in a *sequence* or any other iterable item. Objects that we've learned about that we can iterate over include strings, lists, tuples, and even built-in iterables for dictionaries, such as keys or values.\n\nWe've already seen the <code>for</code> statement a little bit in past lectures but now let's formalize our understanding.\n\nHere's the general format for a <code>for</code> loop in Python:\n\n    for item in object:\n        statements to do stuff\n    ",
      "metadata": {
        "cell_id": "00001-55ee3a77-2cc6-4139-a5b9-0464b65e1a9f",
        "deepnote_cell_type": "markdown"
      }
    },
    {
      "cell_type": "markdown",
      "source": "The variable name used for the item is completely up to the coder, so use your best judgment for choosing a name that makes sense and you will be able to understand when revisiting your code. This item name can then be referenced inside your loop, for example if you wanted to use <code>if</code> statements to perform checks.\n\nLet's go ahead and work through several example of <code>for</code> loops using a variety of data object types. We'll start simple and build more complexity later on.\n\n## Example 1\nIterating through a list",
      "metadata": {
        "cell_id": "00002-065edb27-f729-4afe-a7c3-424d5d50cba5",
        "deepnote_cell_type": "markdown"
      }
    },
    {
      "cell_type": "code",
      "metadata": {
        "collapsed": true,
        "cell_id": "00003-e29a9204-6940-495d-8ae2-d0ca390dfaed",
        "deepnote_to_be_reexecuted": false,
        "source_hash": "795284c",
        "execution_millis": 2,
        "execution_start": 1618849685443,
        "deepnote_cell_type": "code"
      },
      "source": "# We'll learn how to automate this sort of list in the next lecture\nlist1 = [1,2,3,4,5,6,7,8,9,10]\ns1 = ['Hello World',\"testing\",\"listforloop\"]",
      "outputs": [],
      "execution_count": null
    },
    {
      "cell_type": "code",
      "metadata": {
        "cell_id": "00004-111aa9a3-afd2-4d34-9d20-5953bcefba75",
        "deepnote_to_be_reexecuted": false,
        "source_hash": "d66ac722",
        "execution_millis": 12,
        "execution_start": 1618849810068,
        "deepnote_cell_type": "code"
      },
      "source": "count = 0\nfor num in list1:\n    print(num)\n    count = count+1\nprint(count)\nfor s in s1:\n    print(s)",
      "outputs": [
        {
          "name": "stdout",
          "text": "1\n2\n3\n4\n5\n6\n7\n8\n9\n10\n10\nHello World\ntesting\nlistforloop\n",
          "output_type": "stream"
        }
      ],
      "execution_count": null
    },
    {
      "cell_type": "markdown",
      "source": "Great! Hopefully this makes sense. Now let's add an <code>if</code> statement to check for even numbers. We'll first introduce a new concept here--the modulo.\n### Modulo\nThe modulo allows us to get the remainder in a division and uses the % symbol. For example:",
      "metadata": {
        "cell_id": "00005-ba187cb3-9bcb-4e50-a371-81e988bbcc40",
        "deepnote_cell_type": "markdown"
      }
    },
    {
      "cell_type": "code",
      "metadata": {
        "cell_id": "00006-2e3b17e8-216c-4df5-8272-b3173fcce9c6",
        "deepnote_cell_type": "code"
      },
      "source": "17 % 5",
      "outputs": [
        {
          "data": {
            "text/plain": "2"
          },
          "execution_count": 3,
          "metadata": {},
          "output_type": "execute_result"
        }
      ],
      "execution_count": null
    },
    {
      "cell_type": "markdown",
      "source": "This makes sense since 17 divided by 5 is 3 remainder 2. Let's see a few more quick examples:",
      "metadata": {
        "cell_id": "00007-e9a4458f-abd3-4336-8a7c-42cd20666f29",
        "deepnote_cell_type": "markdown"
      }
    },
    {
      "cell_type": "code",
      "metadata": {
        "cell_id": "00008-f18879b7-81f3-465b-a819-394493e1f216",
        "deepnote_cell_type": "code"
      },
      "source": "# 3 Remainder 1\n10 % 3",
      "outputs": [
        {
          "data": {
            "text/plain": "1"
          },
          "execution_count": 4,
          "metadata": {},
          "output_type": "execute_result"
        }
      ],
      "execution_count": null
    },
    {
      "cell_type": "code",
      "metadata": {
        "cell_id": "00009-6a36fc17-fc37-4d0d-b1ce-ec6c5013e733",
        "deepnote_cell_type": "code"
      },
      "source": "# 2 Remainder 4\n18 % 7",
      "outputs": [
        {
          "data": {
            "text/plain": "4"
          },
          "execution_count": 5,
          "metadata": {},
          "output_type": "execute_result"
        }
      ],
      "execution_count": null
    },
    {
      "cell_type": "code",
      "metadata": {
        "cell_id": "00010-dabcd33f-038a-4c93-877d-f1971aa9c388",
        "deepnote_cell_type": "code"
      },
      "source": "# 2 no remainder\n4 % 2",
      "outputs": [
        {
          "data": {
            "text/plain": "0"
          },
          "execution_count": 6,
          "metadata": {},
          "output_type": "execute_result"
        }
      ],
      "execution_count": null
    },
    {
      "cell_type": "markdown",
      "source": "Notice that if a number is fully divisible with no remainder, the result of the modulo call is 0. We can use this to test for even numbers, since if a number modulo 2 is equal to 0, that means it is an even number!\n\nBack to the <code>for</code> loops!\n\n## Example 2\nLet's print only the even numbers from that list!",
      "metadata": {
        "cell_id": "00011-80ba3104-cead-4fa5-b514-8a89001dc7a7",
        "deepnote_cell_type": "markdown"
      }
    },
    {
      "cell_type": "code",
      "metadata": {
        "cell_id": "00012-d60f3ed8-7dab-4034-90d6-8f2f7ff78365",
        "deepnote_cell_type": "code"
      },
      "source": "for num in list1:\n    if num % 2 == 0:\n        print(num)",
      "outputs": [
        {
          "name": "stdout",
          "output_type": "stream",
          "text": "2\n4\n6\n8\n10\n"
        }
      ],
      "execution_count": null
    },
    {
      "cell_type": "markdown",
      "source": "We could have also put an <code>else</code> statement in there:",
      "metadata": {
        "cell_id": "00013-38a4398e-0ec5-450a-9048-e7340094a4a7",
        "deepnote_cell_type": "markdown"
      }
    },
    {
      "cell_type": "code",
      "metadata": {
        "cell_id": "00014-fb2d683d-5d50-4347-8cf3-c00768259b66",
        "deepnote_cell_type": "code"
      },
      "source": "for num in list1:\n    if num % 2 == 0:\n        print(num)\n    else:\n        print('Odd number')",
      "outputs": [
        {
          "name": "stdout",
          "output_type": "stream",
          "text": "Odd number\n2\nOdd number\n4\nOdd number\n6\nOdd number\n8\nOdd number\n10\n"
        }
      ],
      "execution_count": null
    },
    {
      "cell_type": "markdown",
      "source": "## Example 3\nAnother common idea during a <code>for</code> loop is keeping some sort of running tally during multiple loops. For example, let's create a <code>for</code> loop that sums up the list:",
      "metadata": {
        "cell_id": "00015-7d148ee8-8683-4165-871b-0f430fd130fe",
        "deepnote_cell_type": "markdown"
      }
    },
    {
      "cell_type": "code",
      "metadata": {
        "cell_id": "00016-0d29fa6e-aeb3-4521-8e73-8a5745204ebe",
        "deepnote_cell_type": "code"
      },
      "source": "# Start sum at zero\nlist_sum = 0 \n\nfor num in list1:\n    list_sum = list_sum + num\n\nprint(list_sum)",
      "outputs": [
        {
          "name": "stdout",
          "output_type": "stream",
          "text": "55\n"
        }
      ],
      "execution_count": null
    },
    {
      "cell_type": "markdown",
      "source": "Great! Read over the above cell and make sure you understand fully what is going on. Also we could have implemented a <code>+=</code> to perform the addition towards the sum. For example:",
      "metadata": {
        "cell_id": "00017-b6015207-0813-4f5e-878f-1400bb9d41af",
        "deepnote_cell_type": "markdown"
      }
    },
    {
      "cell_type": "code",
      "metadata": {
        "cell_id": "00018-6aab450c-acf2-4c20-b5e3-3b172f97114c",
        "deepnote_cell_type": "code"
      },
      "source": "# Start sum at zero\nlist_sum = 0 \n\nfor num in list1:\n    list_sum += num\n\nprint(list_sum)",
      "outputs": [
        {
          "name": "stdout",
          "output_type": "stream",
          "text": "55\n"
        }
      ],
      "execution_count": null
    },
    {
      "cell_type": "markdown",
      "source": "## Example 4\nWe've used <code>for</code> loops with lists, how about with strings? Remember strings are a sequence so when we iterate through them we will be accessing each item in that string.",
      "metadata": {
        "cell_id": "00019-98d2c960-91ac-4343-aec7-ab8fda4ada65",
        "deepnote_cell_type": "markdown"
      }
    },
    {
      "cell_type": "code",
      "metadata": {
        "cell_id": "00020-0bb227a7-e6fb-456d-97d0-d7f6cd4a001a",
        "deepnote_cell_type": "code"
      },
      "source": "for letter in 'This is a string.':\n    print(letter)",
      "outputs": [
        {
          "name": "stdout",
          "output_type": "stream",
          "text": "T\nh\ni\ns\n \ni\ns\n \na\n \ns\nt\nr\ni\nn\ng\n.\n"
        }
      ],
      "execution_count": null
    },
    {
      "cell_type": "markdown",
      "source": "## Example 5\nLet's now look at how a <code>for</code> loop can be used with a tuple:",
      "metadata": {
        "cell_id": "00021-85f75a8d-1285-4aac-87cd-97755f0c439c",
        "deepnote_cell_type": "markdown"
      }
    },
    {
      "cell_type": "code",
      "metadata": {
        "cell_id": "00022-477db53f-682a-4420-89f6-68162a8626d7",
        "deepnote_cell_type": "code"
      },
      "source": "tup = (1,2,3,4,5)\n\nfor t in tup:\n    print(t)",
      "outputs": [
        {
          "name": "stdout",
          "output_type": "stream",
          "text": "1\n2\n3\n4\n5\n"
        }
      ],
      "execution_count": null
    },
    {
      "cell_type": "markdown",
      "source": "## Example 6\nTuples have a special quality when it comes to <code>for</code> loops. If you are iterating through a sequence that contains tuples, the item can actually be the tuple itself, this is an example of *tuple unpacking*. During the <code>for</code> loop we will be unpacking the tuple inside of a sequence and we can access the individual items inside that tuple!",
      "metadata": {
        "cell_id": "00023-54b25c9a-6ad1-4a45-9fe6-30022161fc03",
        "deepnote_cell_type": "markdown"
      }
    },
    {
      "cell_type": "code",
      "metadata": {
        "collapsed": true,
        "cell_id": "00024-baabd103-4e3b-4804-896a-eeb892377fb6",
        "deepnote_cell_type": "code"
      },
      "source": "list2 = [(2,4),(6,8),(10,12)]",
      "outputs": [],
      "execution_count": null
    },
    {
      "cell_type": "code",
      "metadata": {
        "cell_id": "00025-721eb8a5-5ad5-4cab-bc72-a06624901d66",
        "deepnote_cell_type": "code"
      },
      "source": "for tup in list2:\n    print(tup)",
      "outputs": [
        {
          "name": "stdout",
          "output_type": "stream",
          "text": "(2, 4)\n(6, 8)\n(10, 12)\n"
        }
      ],
      "execution_count": null
    },
    {
      "cell_type": "code",
      "metadata": {
        "cell_id": "00026-93ffa96b-5ecf-40ab-9029-10d0c1702445",
        "deepnote_cell_type": "code"
      },
      "source": "# Now with unpacking!\nfor (t1,t2) in list2:\n    print(t1)",
      "outputs": [
        {
          "name": "stdout",
          "output_type": "stream",
          "text": "2\n6\n10\n"
        }
      ],
      "execution_count": null
    },
    {
      "cell_type": "markdown",
      "source": "Cool! With tuples in a sequence we can access the items inside of them through unpacking! The reason this is important is because many objects will deliver their iterables through tuples. Let's start exploring iterating through Dictionaries to explore this further!",
      "metadata": {
        "cell_id": "00027-97641c5a-44d6-4daa-bb82-e686e3f7b8e5",
        "deepnote_cell_type": "markdown"
      }
    },
    {
      "cell_type": "markdown",
      "source": "## Example 7",
      "metadata": {
        "cell_id": "00028-958aac54-14a9-496b-bac3-eba628436424",
        "deepnote_cell_type": "markdown"
      }
    },
    {
      "cell_type": "code",
      "metadata": {
        "collapsed": true,
        "cell_id": "00029-49427c1e-3c2d-4ae5-b096-4407ddf24ec5",
        "deepnote_cell_type": "code"
      },
      "source": "d = {'k1':1,'k2':2,'k3':3}",
      "outputs": [],
      "execution_count": null
    },
    {
      "cell_type": "code",
      "metadata": {
        "cell_id": "00030-43d6ae51-4535-461e-9c26-becd0bea06ac",
        "deepnote_cell_type": "code"
      },
      "source": "for item in d:\n    print(item)",
      "outputs": [
        {
          "name": "stdout",
          "output_type": "stream",
          "text": "k1\nk2\nk3\n"
        }
      ],
      "execution_count": null
    },
    {
      "cell_type": "markdown",
      "source": "Notice how this produces only the keys. So how can we get the values? Or both the keys and the values? \n\nWe're going to introduce three new Dictionary methods: **.keys()**, **.values()** and **.items()**\n\nIn Python each of these methods return a *dictionary view object*. It supports operations like membership test and iteration, but its contents are not independent of the original dictionary – it is only a view. Let's see it in action:",
      "metadata": {
        "cell_id": "00031-46168b1b-ad72-47a9-8f4e-55569922dd4f",
        "deepnote_cell_type": "markdown"
      }
    },
    {
      "cell_type": "code",
      "metadata": {
        "cell_id": "00032-af43b547-0403-4e9b-a2dc-515f566c8036",
        "deepnote_cell_type": "code"
      },
      "source": "# Create a dictionary view object\nd.items()",
      "outputs": [
        {
          "data": {
            "text/plain": "dict_items([('k1', 1), ('k2', 2), ('k3', 3)])"
          },
          "execution_count": 18,
          "metadata": {},
          "output_type": "execute_result"
        }
      ],
      "execution_count": null
    },
    {
      "cell_type": "markdown",
      "source": "Since the .items() method supports iteration, we can perform *dictionary unpacking* to separate keys and values just as we did in the previous examples.",
      "metadata": {
        "cell_id": "00033-3d8ecfec-7c1c-4bf7-94a8-7ab7fa1adc08",
        "deepnote_cell_type": "markdown"
      }
    },
    {
      "cell_type": "code",
      "metadata": {
        "cell_id": "00034-9ff6486e-a553-4596-9e59-bedbe8a3d263",
        "deepnote_cell_type": "code"
      },
      "source": "# Dictionary unpacking\nfor k,v in d.items():\n    print(k)\n    print(v) ",
      "outputs": [
        {
          "name": "stdout",
          "output_type": "stream",
          "text": "k1\n1\nk2\n2\nk3\n3\n"
        }
      ],
      "execution_count": null
    },
    {
      "cell_type": "markdown",
      "source": "If you want to obtain a true list of keys, values, or key/value tuples, you can *cast* the view as a list:",
      "metadata": {
        "cell_id": "00035-7133bc22-b820-4c34-9550-320eda7dd134",
        "deepnote_cell_type": "markdown"
      }
    },
    {
      "cell_type": "code",
      "metadata": {
        "cell_id": "00036-03644456-76cb-4072-8f47-94ce4f9f4490",
        "deepnote_cell_type": "code"
      },
      "source": "list(d.keys())",
      "outputs": [
        {
          "data": {
            "text/plain": "['k1', 'k2', 'k3']"
          },
          "execution_count": 20,
          "metadata": {},
          "output_type": "execute_result"
        }
      ],
      "execution_count": null
    },
    {
      "cell_type": "markdown",
      "source": "Remember that dictionaries are unordered, and that keys and values come back in arbitrary order. You can obtain a sorted list using sorted():",
      "metadata": {
        "cell_id": "00037-214ed4fa-5703-4877-ab13-76b3bc9e2a72",
        "deepnote_cell_type": "markdown"
      }
    },
    {
      "cell_type": "code",
      "metadata": {
        "cell_id": "00038-878b1f8f-84d5-48a0-8df2-69d238d562db",
        "deepnote_cell_type": "code"
      },
      "source": "sorted(d.values())",
      "outputs": [
        {
          "data": {
            "text/plain": "[1, 2, 3]"
          },
          "execution_count": 21,
          "metadata": {},
          "output_type": "execute_result"
        }
      ],
      "execution_count": null
    },
    {
      "cell_type": "markdown",
      "source": "## Conclusion\n\nWe've learned how to use for loops to iterate through tuples, lists, strings, and dictionaries. It will be an important tool for us, so make sure you know it well and understood the above examples.\n\n[More resources](http://www.tutorialspoint.com/python/python_for_loop.htm)",
      "metadata": {
        "cell_id": "00039-7d6add12-76a6-4765-a5e3-c28a0a7fba98",
        "deepnote_cell_type": "markdown"
      }
    },
    {
      "cell_type": "markdown",
      "source": "# Else block in for",
      "metadata": {
        "tags": [],
        "cell_id": "00039-6c0d0916-94e3-4e3e-bfc6-1eced4657d0d",
        "deepnote_cell_type": "markdown"
      }
    },
    {
      "cell_type": "code",
      "source": "numbers = [1,2,3,4]\nfor num in numbers:\n    if num % 2 == 1:\n        print(num)\nelse:\n    print(num)",
      "metadata": {
        "tags": [],
        "cell_id": "00040-645cda14-e171-46f9-8bba-23c1da0df88b",
        "deepnote_to_be_reexecuted": false,
        "source_hash": "b53138b2",
        "execution_millis": 8,
        "execution_start": 1618849924074,
        "deepnote_cell_type": "code"
      },
      "outputs": [
        {
          "name": "stdout",
          "text": "1\n3\n4\n",
          "output_type": "stream"
        }
      ],
      "execution_count": null
    },
    {
      "cell_type": "markdown",
      "source": "<a style='text-decoration:none;line-height:16px;display:flex;color:#5B5B62;padding:10px;justify-content:end;' href='https://deepnote.com?utm_source=created-in-deepnote-cell&projectId=c3147b9a-1437-4d7f-b3a6-141719e97be4' target=\"_blank\">\n<img alt='Created in deepnote.com' style='display:inline;max-height:16px;margin:0px;margin-right:7.5px;' src='data:image/svg+xml;base64,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' > </img>\nCreated in <span style='font-weight:600;margin-left:4px;'>Deepnote</span></a>",
      "metadata": {
        "tags": [],
        "created_in_deepnote_cell": true,
        "deepnote_cell_type": "markdown"
      }
    }
  ],
  "nbformat": 4,
  "nbformat_minor": 1,
  "metadata": {
    "kernelspec": {
      "display_name": "Python 3",
      "language": "python",
      "name": "python3"
    },
    "language_info": {
      "codemirror_mode": {
        "name": "ipython",
        "version": 3
      },
      "file_extension": ".py",
      "mimetype": "text/x-python",
      "name": "python",
      "nbconvert_exporter": "python",
      "pygments_lexer": "ipython3",
      "version": "3.6.6"
    },
    "deepnote_notebook_id": "98287612-c544-4426-8a8d-ff49b48f8d18",
    "deepnote": {},
    "deepnote_execution_queue": []
  }
}