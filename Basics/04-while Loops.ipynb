{
  "cells": [
    {
      "cell_type": "markdown",
      "source": "# while Loops\n\nThe <code>while</code> statement in Python is one of most general ways to perform iteration. A <code>while</code> statement will repeatedly execute a single statement or group of statements as long as the condition is true. The reason it is called a 'loop' is because the code statements are looped through over and over again until the condition is no longer met.\n\nThe general format of a while loop is:\n\n    while test:\n        code statements\n    else:\n        final code statements\n\nLet’s look at a few simple <code>while</code> loops in action. ",
      "metadata": {
        "collapsed": true,
        "cell_id": "00001-a9517f3a-40b5-4515-babb-5694ef168a11",
        "deepnote_cell_type": "markdown"
      }
    },
    {
      "cell_type": "code",
      "metadata": {
        "cell_id": "00002-7a43214a-b0f3-4b0e-8ff6-3e4841c0f5b8",
        "deepnote_cell_type": "code"
      },
      "source": "x = 0\n\nwhile x < 10:\n    print('x is currently: ',x)\n    print(' x is still less than 10, adding 1 to x')\n    x+=1",
      "outputs": [
        {
          "name": "stdout",
          "output_type": "stream",
          "text": "x is currently:  0\n x is still less than 10, adding 1 to x\nx is currently:  1\n x is still less than 10, adding 1 to x\nx is currently:  2\n x is still less than 10, adding 1 to x\nx is currently:  3\n x is still less than 10, adding 1 to x\nx is currently:  4\n x is still less than 10, adding 1 to x\nx is currently:  5\n x is still less than 10, adding 1 to x\nx is currently:  6\n x is still less than 10, adding 1 to x\nx is currently:  7\n x is still less than 10, adding 1 to x\nx is currently:  8\n x is still less than 10, adding 1 to x\nx is currently:  9\n x is still less than 10, adding 1 to x\n"
        }
      ],
      "execution_count": null
    },
    {
      "cell_type": "markdown",
      "source": "Notice how many times the print statements occurred and how the <code>while</code> loop kept going until the True condition was met, which occurred once x==10. It's important to note that once this occurred the code stopped. Let's see how we could add an <code>else</code> statement:",
      "metadata": {
        "cell_id": "00003-7df53f7e-08ca-4251-83ec-85edc532b1a1",
        "deepnote_cell_type": "markdown"
      }
    },
    {
      "cell_type": "code",
      "metadata": {
        "cell_id": "00004-e47159f3-5419-47c5-a472-853b89b88d60",
        "deepnote_cell_type": "code"
      },
      "source": "x = 0\n\nwhile x < 10:\n    print('x is currently: ',x)\n    print(' x is still less than 10, adding 1 to x')\n    x+=1\n    \nelse:\n    print('All Done!')",
      "outputs": [
        {
          "name": "stdout",
          "output_type": "stream",
          "text": "x is currently:  0\n x is still less than 10, adding 1 to x\nx is currently:  1\n x is still less than 10, adding 1 to x\nx is currently:  2\n x is still less than 10, adding 1 to x\nx is currently:  3\n x is still less than 10, adding 1 to x\nx is currently:  4\n x is still less than 10, adding 1 to x\nx is currently:  5\n x is still less than 10, adding 1 to x\nx is currently:  6\n x is still less than 10, adding 1 to x\nx is currently:  7\n x is still less than 10, adding 1 to x\nx is currently:  8\n x is still less than 10, adding 1 to x\nx is currently:  9\n x is still less than 10, adding 1 to x\nAll Done!\n"
        }
      ],
      "execution_count": null
    },
    {
      "cell_type": "markdown",
      "source": "# break, continue, pass\n\nWe can use <code>break</code>, <code>continue</code>, and <code>pass</code> statements in our loops to add additional functionality for various cases. The three statements are defined by:\n\n    break: Breaks out of the current closest enclosing loop.\n    continue: Goes to the top of the closest enclosing loop.\n    pass: Does nothing at all.\n    \n    \nThinking about <code>break</code> and <code>continue</code> statements, the general format of the <code>while</code> loop looks like this:\n\n    while test: \n        code statement\n        if test: \n            break\n        if test: \n            continue \n    else:\n\n<code>break</code> and <code>continue</code> statements can appear anywhere inside the loop’s body, but we will usually put them further nested in conjunction with an <code>if</code> statement to perform an action based on some condition.\n\nLet's go ahead and look at some examples!",
      "metadata": {
        "cell_id": "00005-58606a66-890b-4fb8-b191-a2e2f7010887",
        "deepnote_cell_type": "markdown"
      }
    },
    {
      "cell_type": "code",
      "metadata": {
        "cell_id": "00006-f485fad8-db29-486b-9fbf-78bd59804bc6",
        "deepnote_cell_type": "code"
      },
      "source": "x = 0\n\nwhile x < 10:\n    print('x is currently: ',x)\n    print(' x is still less than 10, adding 1 to x')\n    x+=1\n    if x==3:\n        print('x==3')\n    else:\n        print('continuing...')\n        continue",
      "outputs": [
        {
          "name": "stdout",
          "output_type": "stream",
          "text": "x is currently:  0\n x is still less than 10, adding 1 to x\ncontinuing...\nx is currently:  1\n x is still less than 10, adding 1 to x\ncontinuing...\nx is currently:  2\n x is still less than 10, adding 1 to x\nx==3\nx is currently:  3\n x is still less than 10, adding 1 to x\ncontinuing...\nx is currently:  4\n x is still less than 10, adding 1 to x\ncontinuing...\nx is currently:  5\n x is still less than 10, adding 1 to x\ncontinuing...\nx is currently:  6\n x is still less than 10, adding 1 to x\ncontinuing...\nx is currently:  7\n x is still less than 10, adding 1 to x\ncontinuing...\nx is currently:  8\n x is still less than 10, adding 1 to x\ncontinuing...\nx is currently:  9\n x is still less than 10, adding 1 to x\ncontinuing...\n"
        }
      ],
      "execution_count": null
    },
    {
      "cell_type": "markdown",
      "source": "Note how we have a printed statement when x==3, and a continue being printed out as we continue through the outer while loop. Let's put in a break once x ==3 and see if the result makes sense:",
      "metadata": {
        "cell_id": "00007-94faf95d-c150-427f-988e-6fbd2c81288f",
        "deepnote_cell_type": "markdown"
      }
    },
    {
      "cell_type": "code",
      "metadata": {
        "cell_id": "00008-65e2fcf1-0fa0-42ab-810c-df427a6324d2",
        "deepnote_cell_type": "code"
      },
      "source": "x = 0\n\nwhile x < 10:\n    print('x is currently: ',x)\n    print(' x is still less than 10, adding 1 to x')\n    x+=1\n    if x==3:\n        print('Breaking because x==3')\n        break\n    else:\n        print('continuing...')\n        continue",
      "outputs": [
        {
          "name": "stdout",
          "output_type": "stream",
          "text": "x is currently:  0\n x is still less than 10, adding 1 to x\ncontinuing...\nx is currently:  1\n x is still less than 10, adding 1 to x\ncontinuing...\nx is currently:  2\n x is still less than 10, adding 1 to x\nBreaking because x==3\n"
        }
      ],
      "execution_count": null
    },
    {
      "cell_type": "markdown",
      "source": "Note how the other <code>else</code> statement wasn't reached and continuing was never printed!\n\nAfter these brief but simple examples, you should feel comfortable using <code>while</code> statements in your code.\n\n**A word of caution however! It is possible to create an infinitely running loop with <code>while</code> statements. For example:**",
      "metadata": {
        "cell_id": "00009-5b58d6c6-68d1-424f-93fa-f95894d12f0a",
        "deepnote_cell_type": "markdown"
      }
    },
    {
      "cell_type": "code",
      "metadata": {
        "collapsed": true,
        "cell_id": "00010-e07f5858-1e52-4021-b2bc-ad6d28ea4199",
        "deepnote_cell_type": "code"
      },
      "source": "# DO NOT RUN THIS CODE!!!! \nwhile True:\n    print(\"I'm stuck in an infinite loop!\")",
      "execution_count": null,
      "outputs": []
    },
    {
      "cell_type": "markdown",
      "source": "A quick note: If you *did* run the above cell, click on the Kernel menu above to restart the kernel!",
      "metadata": {
        "collapsed": true,
        "cell_id": "00011-ee30ff94-c101-4c0e-b46f-c40ec1a87b31",
        "deepnote_cell_type": "markdown"
      }
    },
    {
      "cell_type": "code",
      "source": "x = -1\nif x > 0:\n    # Logic yet to be defined\n   pass\nelse:\n    print(True)",
      "metadata": {
        "tags": [],
        "cell_id": "00011-1ba16884-ae35-43a1-857d-20aa8f3c54f9",
        "deepnote_to_be_reexecuted": false,
        "source_hash": "9e3989ac",
        "execution_millis": 9,
        "execution_start": 1618850193245,
        "deepnote_cell_type": "code"
      },
      "outputs": [
        {
          "name": "stdout",
          "text": "True\n",
          "output_type": "stream"
        }
      ],
      "execution_count": null
    },
    {
      "cell_type": "code",
      "source": "s1=\"srinivas\"\ns1\nset(s1)\n\n# Occurances\n# s = 2, i = 2, \n\nfrom collections import Counter\n#from module import class/functions\n\nhelp(Counter)\nc = Counter(s1)\nprint(c)\nl = dict(c)\n#key, value\nprint(l)\n#val = l['key']\n\nfor i in l :\n    if l[i] > 1:\n        print(i, l[i])\n    else:\n        print(i, l[i])",
      "metadata": {
        "tags": [],
        "cell_id": "00012-27f42212-b2c8-455a-a915-a4a02086f166",
        "deepnote_to_be_reexecuted": false,
        "source_hash": "846c1cca",
        "execution_millis": 33,
        "execution_start": 1618851450737,
        "deepnote_cell_type": "code"
      },
      "outputs": [
        {
          "name": "stdout",
          "text": "Help on class Counter in module collections:\n\nclass Counter(builtins.dict)\n |  Counter(*args, **kwds)\n |  \n |  Dict subclass for counting hashable items.  Sometimes called a bag\n |  or multiset.  Elements are stored as dictionary keys and their counts\n |  are stored as dictionary values.\n |  \n |  >>> c = Counter('abcdeabcdabcaba')  # count elements from a string\n |  \n |  >>> c.most_common(3)                # three most common elements\n |  [('a', 5), ('b', 4), ('c', 3)]\n |  >>> sorted(c)                       # list all unique elements\n |  ['a', 'b', 'c', 'd', 'e']\n |  >>> ''.join(sorted(c.elements()))   # list elements with repetitions\n |  'aaaaabbbbcccdde'\n |  >>> sum(c.values())                 # total of all counts\n |  15\n |  \n |  >>> c['a']                          # count of letter 'a'\n |  5\n |  >>> for elem in 'shazam':           # update counts from an iterable\n |  ...     c[elem] += 1                # by adding 1 to each element's count\n |  >>> c['a']                          # now there are seven 'a'\n |  7\n |  >>> del c['b']                      # remove all 'b'\n |  >>> c['b']                          # now there are zero 'b'\n |  0\n |  \n |  >>> d = Counter('simsalabim')       # make another counter\n |  >>> c.update(d)                     # add in the second counter\n |  >>> c['a']                          # now there are nine 'a'\n |  9\n |  \n |  >>> c.clear()                       # empty the counter\n |  >>> c\n |  Counter()\n |  \n |  Note:  If a count is set to zero or reduced to zero, it will remain\n |  in the counter until the entry is deleted or the counter is cleared:\n |  \n |  >>> c = Counter('aaabbc')\n |  >>> c['b'] -= 2                     # reduce the count of 'b' by two\n |  >>> c.most_common()                 # 'b' is still in, but its count is zero\n |  [('a', 3), ('c', 1), ('b', 0)]\n |  \n |  Method resolution order:\n |      Counter\n |      builtins.dict\n |      builtins.object\n |  \n |  Methods defined here:\n |  \n |  __add__(self, other)\n |      Add counts from two counters.\n |      \n |      >>> Counter('abbb') + Counter('bcc')\n |      Counter({'b': 4, 'c': 2, 'a': 1})\n |  \n |  __and__(self, other)\n |      Intersection is the minimum of corresponding counts.\n |      \n |      >>> Counter('abbb') & Counter('bcc')\n |      Counter({'b': 1})\n |  \n |  __delitem__(self, elem)\n |      Like dict.__delitem__() but does not raise KeyError for missing values.\n |  \n |  __iadd__(self, other)\n |      Inplace add from another counter, keeping only positive counts.\n |      \n |      >>> c = Counter('abbb')\n |      >>> c += Counter('bcc')\n |      >>> c\n |      Counter({'b': 4, 'c': 2, 'a': 1})\n |  \n |  __iand__(self, other)\n |      Inplace intersection is the minimum of corresponding counts.\n |      \n |      >>> c = Counter('abbb')\n |      >>> c &= Counter('bcc')\n |      >>> c\n |      Counter({'b': 1})\n |  \n |  __init__(*args, **kwds)\n |      Create a new, empty Counter object.  And if given, count elements\n |      from an input iterable.  Or, initialize the count from another mapping\n |      of elements to their counts.\n |      \n |      >>> c = Counter()                           # a new, empty counter\n |      >>> c = Counter('gallahad')                 # a new counter from an iterable\n |      >>> c = Counter({'a': 4, 'b': 2})           # a new counter from a mapping\n |      >>> c = Counter(a=4, b=2)                   # a new counter from keyword args\n |  \n |  __ior__(self, other)\n |      Inplace union is the maximum of value from either counter.\n |      \n |      >>> c = Counter('abbb')\n |      >>> c |= Counter('bcc')\n |      >>> c\n |      Counter({'b': 3, 'c': 2, 'a': 1})\n |  \n |  __isub__(self, other)\n |      Inplace subtract counter, but keep only results with positive counts.\n |      \n |      >>> c = Counter('abbbc')\n |      >>> c -= Counter('bccd')\n |      >>> c\n |      Counter({'b': 2, 'a': 1})\n |  \n |  __missing__(self, key)\n |      The count of elements not in the Counter is zero.\n |  \n |  __neg__(self)\n |      Subtracts from an empty counter.  Strips positive and zero counts,\n |      and flips the sign on negative counts.\n |  \n |  __or__(self, other)\n |      Union is the maximum of value in either of the input counters.\n |      \n |      >>> Counter('abbb') | Counter('bcc')\n |      Counter({'b': 3, 'c': 2, 'a': 1})\n |  \n |  __pos__(self)\n |      Adds an empty counter, effectively stripping negative and zero counts\n |  \n |  __reduce__(self)\n |      Helper for pickle.\n |  \n |  __repr__(self)\n |      Return repr(self).\n |  \n |  __sub__(self, other)\n |      Subtract count, but keep only results with positive counts.\n |      \n |      >>> Counter('abbbc') - Counter('bccd')\n |      Counter({'b': 2, 'a': 1})\n |  \n |  copy(self)\n |      Return a shallow copy.\n |  \n |  elements(self)\n |      Iterator over elements repeating each as many times as its count.\n |      \n |      >>> c = Counter('ABCABC')\n |      >>> sorted(c.elements())\n |      ['A', 'A', 'B', 'B', 'C', 'C']\n |      \n |      # Knuth's example for prime factors of 1836:  2**2 * 3**3 * 17**1\n |      >>> prime_factors = Counter({2: 2, 3: 3, 17: 1})\n |      >>> product = 1\n |      >>> for factor in prime_factors.elements():     # loop over factors\n |      ...     product *= factor                       # and multiply them\n |      >>> product\n |      1836\n |      \n |      Note, if an element's count has been set to zero or is a negative\n |      number, elements() will ignore it.\n |  \n |  most_common(self, n=None)\n |      List the n most common elements and their counts from the most\n |      common to the least.  If n is None, then list all element counts.\n |      \n |      >>> Counter('abcdeabcdabcaba').most_common(3)\n |      [('a', 5), ('b', 4), ('c', 3)]\n |  \n |  subtract(*args, **kwds)\n |      Like dict.update() but subtracts counts instead of replacing them.\n |      Counts can be reduced below zero.  Both the inputs and outputs are\n |      allowed to contain zero and negative counts.\n |      \n |      Source can be an iterable, a dictionary, or another Counter instance.\n |      \n |      >>> c = Counter('which')\n |      >>> c.subtract('witch')             # subtract elements from another iterable\n |      >>> c.subtract(Counter('watch'))    # subtract elements from another counter\n |      >>> c['h']                          # 2 in which, minus 1 in witch, minus 1 in watch\n |      0\n |      >>> c['w']                          # 1 in which, minus 1 in witch, minus 1 in watch\n |      -1\n |  \n |  update(*args, **kwds)\n |      Like dict.update() but add counts instead of replacing them.\n |      \n |      Source can be an iterable, a dictionary, or another Counter instance.\n |      \n |      >>> c = Counter('which')\n |      >>> c.update('witch')           # add elements from another iterable\n |      >>> d = Counter('watch')\n |      >>> c.update(d)                 # add elements from another counter\n |      >>> c['h']                      # four 'h' in which, witch, and watch\n |      4\n |  \n |  ----------------------------------------------------------------------\n |  Class methods defined here:\n |  \n |  fromkeys(iterable, v=None) from builtins.type\n |      Create a new dictionary with keys from iterable and values set to value.\n |  \n |  ----------------------------------------------------------------------\n |  Data descriptors defined here:\n |  \n |  __dict__\n |      dictionary for instance variables (if defined)\n |  \n |  __weakref__\n |      list of weak references to the object (if defined)\n |  \n |  ----------------------------------------------------------------------\n |  Methods inherited from builtins.dict:\n |  \n |  __contains__(self, key, /)\n |      True if the dictionary has the specified key, else False.\n |  \n |  __eq__(self, value, /)\n |      Return self==value.\n |  \n |  __ge__(self, value, /)\n |      Return self>=value.\n |  \n |  __getattribute__(self, name, /)\n |      Return getattr(self, name).\n |  \n |  __getitem__(...)\n |      x.__getitem__(y) <==> x[y]\n |  \n |  __gt__(self, value, /)\n |      Return self>value.\n |  \n |  __iter__(self, /)\n |      Implement iter(self).\n |  \n |  __le__(self, value, /)\n |      Return self<=value.\n |  \n |  __len__(self, /)\n |      Return len(self).\n |  \n |  __lt__(self, value, /)\n |      Return self<value.\n |  \n |  __ne__(self, value, /)\n |      Return self!=value.\n |  \n |  __setitem__(self, key, value, /)\n |      Set self[key] to value.\n |  \n |  __sizeof__(...)\n |      D.__sizeof__() -> size of D in memory, in bytes\n |  \n |  clear(...)\n |      D.clear() -> None.  Remove all items from D.\n |  \n |  get(self, key, default=None, /)\n |      Return the value for key if key is in the dictionary, else default.\n |  \n |  items(...)\n |      D.items() -> a set-like object providing a view on D's items\n |  \n |  keys(...)\n |      D.keys() -> a set-like object providing a view on D's keys\n |  \n |  pop(...)\n |      D.pop(k[,d]) -> v, remove specified key and return the corresponding value.\n |      If key is not found, d is returned if given, otherwise KeyError is raised\n |  \n |  popitem(...)\n |      D.popitem() -> (k, v), remove and return some (key, value) pair as a\n |      2-tuple; but raise KeyError if D is empty.\n |  \n |  setdefault(self, key, default=None, /)\n |      Insert key with a value of default if key is not in the dictionary.\n |      \n |      Return the value for key if key is in the dictionary, else default.\n |  \n |  values(...)\n |      D.values() -> an object providing a view on D's values\n |  \n |  ----------------------------------------------------------------------\n |  Static methods inherited from builtins.dict:\n |  \n |  __new__(*args, **kwargs) from builtins.type\n |      Create and return a new object.  See help(type) for accurate signature.\n |  \n |  ----------------------------------------------------------------------\n |  Data and other attributes inherited from builtins.dict:\n |  \n |  __hash__ = None\n\nCounter({'s': 2, 'i': 2, 'r': 1, 'n': 1, 'v': 1, 'a': 1})\n{'s': 2, 'r': 1, 'i': 2, 'n': 1, 'v': 1, 'a': 1}\ns 2\nr 1\ni 2\nn 1\nv 1\na 1\n",
          "output_type": "stream"
        }
      ],
      "execution_count": null
    },
    {
      "cell_type": "markdown",
      "source": "<a style='text-decoration:none;line-height:16px;display:flex;color:#5B5B62;padding:10px;justify-content:end;' href='https://deepnote.com?utm_source=created-in-deepnote-cell&projectId=c3147b9a-1437-4d7f-b3a6-141719e97be4' target=\"_blank\">\n<img alt='Created in deepnote.com' style='display:inline;max-height:16px;margin:0px;margin-right:7.5px;' src='data:image/svg+xml;base64,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' > </img>\nCreated in <span style='font-weight:600;margin-left:4px;'>Deepnote</span></a>",
      "metadata": {
        "tags": [],
        "created_in_deepnote_cell": true,
        "deepnote_cell_type": "markdown"
      }
    }
  ],
  "nbformat": 4,
  "nbformat_minor": 1,
  "metadata": {
    "kernelspec": {
      "display_name": "Python 3",
      "language": "python",
      "name": "python3"
    },
    "language_info": {
      "codemirror_mode": {
        "name": "ipython",
        "version": 3
      },
      "file_extension": ".py",
      "mimetype": "text/x-python",
      "name": "python",
      "nbconvert_exporter": "python",
      "pygments_lexer": "ipython3",
      "version": "3.6.6"
    },
    "deepnote_notebook_id": "a2f8f5df-de0e-424d-ad73-8f953351860d",
    "deepnote": {},
    "deepnote_execution_queue": []
  }
}